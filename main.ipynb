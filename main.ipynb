{
 "cells": [
  {
   "cell_type": "markdown",
   "metadata": {},
   "source": [
    "## Notebook Contents\n",
    "\n",
    "0. Introduction\n",
    "1. Data Processing and Loading\n",
    "2. Model Training\n",
    "3. Model Usage\n",
    "4. Model Evaluation"
   ]
  },
  {
   "cell_type": "markdown",
   "metadata": {},
   "source": [
    "## 0. Introduction\n",
    "\n",
    "Here, we are going to replicate the VolGAN-example file, by demonstrating the modifications we are making to the VolGAN file and introducing new functions we have created."
   ]
  },
  {
   "cell_type": "code",
   "execution_count": 1,
   "metadata": {},
   "outputs": [],
   "source": [
    "#import libraries\n",
    "\n",
    "import torch\n",
    "import numpy as np\n",
    "from tqdm import tqdm\n",
    "import matplotlib.pyplot as plt\n",
    "import pandas as pd\n",
    "from datetime import datetime\n",
    "import warnings\n",
    "import torch.nn as nn\n",
    "warnings.filterwarnings(\"ignore\")\n",
    "\n",
    "#import files with supporting functions\n",
    "import VolGANSwaps as VGS\n",
    "import Inputs\n",
    "\n",
    "#import our data sets and a sample date for testing\n",
    "VOLATILITY_DATA = \"data/swaption_atm_vol_full_NEW_no30y.xlsx\"\n",
    "FORWARDS_DATA = \"data/forward_sofr_swap_full_NEW_no30y.xlsx\""
   ]
  },
  {
   "cell_type": "markdown",
   "metadata": {},
   "source": [
    "## 1. Data Processing and Loading"
   ]
  },
  {
   "cell_type": "markdown",
   "metadata": {},
   "source": [
    "### 1.1 Data Loading\n",
    "- The data loader takes in the filepath to the volatility surface and the forward swap rates\n",
    "- Constructs returns on underlying\n",
    "- Processes the volatility data\n",
    "    - The surface for every underlying asset is represented as a vector\n",
    "    - This is similarly the case for the returns\n",
    "- Sets up the tenor and tau matrices"
   ]
  },
  {
   "cell_type": "code",
   "execution_count": 3,
   "metadata": {},
   "outputs": [],
   "source": [
    "surfaces_transform, returns, tenor, tau, tenors, taus, dates_dt = VGS.SwapsData(FORWARDS_DATA, VOLATILITY_DATA)"
   ]
  },
  {
   "cell_type": "markdown",
   "metadata": {},
   "source": [
    "### 1.2 Data Preprocessing\n",
    "\n",
    "- Within `DataPreprocessing` we call `SwapsData` like the original VolGAN implementation\n",
    "- Here we construct the condition vector, construct the true labels and pass through some other data that might be relevant\n",
    "    - Each underlying has a condition vector and the true labels (annualized return and log implied vol increment)\n",
    "    - Because of this they will actually end up being tensor inputs to the models"
   ]
  },
  {
   "cell_type": "code",
   "execution_count": 4,
   "metadata": {},
   "outputs": [],
   "source": [
    "true, condition, m_in,sigma_in, m_out, sigma_out, dates_t,  tenor, tau, tenors, taus = VGS.DataPreprocesssing(FORWARDS_DATA, VOLATILITY_DATA, data_model='normal')"
   ]
  },
  {
   "cell_type": "markdown",
   "metadata": {},
   "source": [
    "### 1.3 Data Train Test Split\n",
    "- Separates dataset into train and test datasets after processing and loading\n",
    "- Parameterized by datasize percentage / proportion\n",
    "- Parameterized by a data transformation assumption (`normal` or `log`)\n",
    "    - Not directly related to volatility model assumptions "
   ]
  },
  {
   "cell_type": "code",
   "execution_count": 5,
   "metadata": {},
   "outputs": [],
   "source": [
    "true_train, true_test, condition_train,  condition_test,  m_in,sigma_in, m_out, sigma_out, dates_t,  tenor, tau, tenors, taus = VGS.DataTrainTest(FORWARDS_DATA, VOLATILITY_DATA, 0.8, data_model='normal')"
   ]
  },
  {
   "cell_type": "markdown",
   "metadata": {},
   "source": [
    "## 2. Model Training\n",
    "\n",
    "We updated the two training loops in the paper by ensuring the dimensionality of the computations were correct.\n",
    "- We reproduce the training process described in the paper in both hyper parameters and process\n",
    "- We also provide the workflow for doing individual experiments which includes tuning of any training parameters. "
   ]
  },
  {
   "cell_type": "markdown",
   "metadata": {},
   "source": [
    "### 2.1 Reproduce the Paper\n",
    "\n",
    "We first highlight the original training architecture and structure as the paper. \n",
    "\n",
    "For reference, this procedure is described in section 3.4 in the original paper.\n",
    "\n",
    "The hyperparameters are also exactly those provided in `VolGAN-example.py` from the original repo."
   ]
  },
  {
   "cell_type": "code",
   "execution_count": 6,
   "metadata": {},
   "outputs": [],
   "source": [
    "tr = 0.85\n",
    "noise_dim = 32\n",
    "hidden_dim = 16\n",
    "n_epochs = 10000\n",
    "n_grad = 25\n",
    "val = True\n",
    "data_model = 'normal'"
   ]
  },
  {
   "cell_type": "markdown",
   "metadata": {},
   "source": [
    "The models can be trained on either gpu or cpu."
   ]
  },
  {
   "cell_type": "code",
   "execution_count": 7,
   "metadata": {},
   "outputs": [],
   "source": [
    "device = torch.device(\"cuda\" if torch.cuda.is_available() else \"cpu\")"
   ]
  },
  {
   "cell_type": "markdown",
   "metadata": {},
   "source": [
    "Here is the full training process.\n",
    "\n",
    "The `VolGAN` function completes the entirety of the training, including the gradient matching procedure."
   ]
  },
  {
   "cell_type": "code",
   "execution_count": null,
   "metadata": {},
   "outputs": [
    {
     "name": "stderr",
     "output_type": "stream",
     "text": [
      "100%|██████████| 250/250 [01:24<00:00,  2.96it/s]\n"
     ]
    },
    {
     "name": "stdout",
     "output_type": "stream",
     "text": [
      "alpha : 5.603299108894575e-06 beta : 0.0009115327179608878\n"
     ]
    },
    {
     "name": "stderr",
     "output_type": "stream",
     "text": [
      "100%|██████████| 10000/10000 [50:54<00:00,  3.27it/s] \n"
     ]
    }
   ],
   "source": [
    "gen, gen_opt, disc, disc_opt, true_train, true_val, true_test, condition_train, condition_val, condition_test, dates_t,  tenor, tau, tenors, taus  = VGS.VolGAN(FORWARDS_DATA,VOLATILITY_DATA, tr, noise_dim = noise_dim, hidden_dim = hidden_dim, n_epochs = n_epochs,n_grad = n_grad, lrg = 0.0001, lrd = 0.0001, batch_size = 100, device = device, data_model=data_model)"
   ]
  },
  {
   "cell_type": "markdown",
   "metadata": {},
   "source": [
    "### 2.2 Modifying the Training Process\n",
    "\n",
    "The `VolGANSwaps` directly abstracts the training process just to highlight the reproduced paper.\n",
    "\n",
    "Any experiments to modify can be done by modifying the exact code framework that is contained in the function.\n",
    "\n",
    "This can include but is not limited to the following:\n",
    "- Manual selection of $\\alpha_{\\text{tenor}}$ and $\\alpha_\\tau$\n",
    "    - Setting $\\alpha_{\\text{tenor}} = \\alpha_\\tau = 0$ results in the traditional GAN setting with only BCE loss contributing to the optimization\n",
    "    - Contrary to what the paper says the `beta` selected in the code is actually $\\alpha_\\tau$ and `alpha` is $\\alpha_{\\text{tenor}}$\n",
    "- Manual selection of optimizer\n",
    "    - RMSProp, Adam, AdamW, etc.\n",
    "- Manual selection of layer dimensions (noise and hidden)\n",
    "- Manual selection for training time\n",
    "- Manual selection for train/test split\n",
    "- Manual selection for learning rates\n",
    "- Manual selection for data transformation"
   ]
  },
  {
   "cell_type": "code",
   "execution_count": 2,
   "metadata": {},
   "outputs": [],
   "source": [
    "tr = 0.8\n",
    "noise_dim = 16\n",
    "hidden_dim = 32\n",
    "device = 'cpu'\n",
    "val = True\n",
    "data_model = 'log'\n",
    "lrg = 0.0001\n",
    "lrd = 0.0001\n",
    "batch_size = 100\n",
    "n_epochs = 5000\n",
    "\n",
    "# we skip the gradient matching and directly choose alpha, beta\n",
    "# alpha = beta = 0 is traditional GAN training\n",
    "\n",
    "n_grad = 0\n",
    "alpha = 0\n",
    "beta = 0"
   ]
  },
  {
   "cell_type": "code",
   "execution_count": 3,
   "metadata": {},
   "outputs": [],
   "source": [
    "SURFACE_PATH = \"data/swaption_atm_vol_full_no30y.xlsx\"\n",
    "DATA_PATH = \"data/forward_sofr_swap_full_no30y.xlsx\"\n",
    "\n",
    "surfaces_transform, returns, tenor, tau, tenors, taus, dates_dt = VGS.SwapsData(DATA_PATH, SURFACE_PATH)\n",
    "true, condition, m_in,sigma_in, m_out, sigma_out, dates_t,  tenor, tau, tenors, taus = VGS.DataPreprocesssing(DATA_PATH, SURFACE_PATH)"
   ]
  },
  {
   "cell_type": "code",
   "execution_count": 4,
   "metadata": {},
   "outputs": [],
   "source": [
    "true_train, true_test, condition_train, condition_test,  m_in,sigma_in, m_out, sigma_out, dates_t,  tenor, tau, tenors, taus = VGS.DataTrainTest(FORWARDS_DATA, VOLATILITY_DATA, tr, data_model, device)\n",
    "gen = VGS.Generator(noise_dim=noise_dim,cond_dim=condition_train.shape[2], hidden_dim=hidden_dim,output_dim=true_train.shape[2],mean_in = m_in, std_in = sigma_in, mean_out = m_out, std_out = sigma_out)\n",
    "gen.to(device)\n",
    "\n",
    "# m_disc and sigma_disc are not used in the original VolGAN, you can see in the Discriminator forward function \n",
    "# we'll preserve the forward pass for now but we can maybe incorporate these later if needed    \n",
    "m_disc = torch.cat((m_in,m_out),dim=-1)\n",
    "sigma_disc = torch.cat((sigma_in,sigma_out),dim=-1)\n",
    "\n",
    "disc = VGS.Discriminator(in_dim = condition_train.shape[2] + true_train.shape[2], hidden_dim = hidden_dim, mean = m_disc, std = sigma_disc)\n",
    "disc.to(device)\n",
    "\n",
    "true_val = False\n",
    "condition_val = False\n",
    "\n",
    "gen_opt = torch.optim.AdamW(gen.parameters(), lr=lrg)\n",
    "disc_opt = torch.optim.AdamW(disc.parameters(), lr=lrd)\n",
    "\n",
    "criterion = nn.BCELoss()\n",
    "criterion = criterion.to(device)"
   ]
  },
  {
   "cell_type": "code",
   "execution_count": 6,
   "metadata": {},
   "outputs": [
    {
     "name": "stderr",
     "output_type": "stream",
     "text": [
      "100%|██████████| 5000/5000 [15:15<00:00,  5.46it/s]\n"
     ]
    }
   ],
   "source": [
    "gen,gen_opt,disc,disc_opt,criterion = VGS.TrainLoopNoVal(alpha,beta,gen,gen_opt,disc,disc_opt,criterion,condition_train,true_train,tenor,tau,tenors,taus,n_epochs,lrg,lrd,batch_size,noise_dim,device, data_model=data_model)"
   ]
  },
  {
   "cell_type": "markdown",
   "metadata": {},
   "source": [
    "### 2.3 Exporting Model Parameters"
   ]
  },
  {
   "cell_type": "code",
   "execution_count": 8,
   "metadata": {},
   "outputs": [],
   "source": [
    "gen_filepath = 'model/generator_parameters.pth'\n",
    "disc_filepath = 'model/discriminator_parameters.pth'\n",
    "\n",
    "torch.save(gen.state_dict(), gen_filepath)\n",
    "torch.save(disc.state_dict(), disc_filepath)"
   ]
  },
  {
   "cell_type": "markdown",
   "metadata": {},
   "source": [
    "## 3. Model Usage\n",
    "\n",
    "Once a trained model has been exported, in this section we'll show how to load the model and utilize the generator to produce surfaces and returns."
   ]
  },
  {
   "cell_type": "markdown",
   "metadata": {},
   "source": [
    "### 3.1 Loading Model Parameters\n",
    "\n",
    "You must ensure the hyperparameters from the original training process be matched with the model objects so that the model parameters can be loaded in properly."
   ]
  },
  {
   "cell_type": "code",
   "execution_count": 9,
   "metadata": {},
   "outputs": [
    {
     "data": {
      "text/plain": [
       "Discriminator(\n",
       "  (linear1): Linear(in_features=6, out_features=32, bias=True)\n",
       "  (activation): Softplus(beta=1.0, threshold=20.0)\n",
       "  (linear2): Linear(in_features=32, out_features=1, bias=True)\n",
       "  (sigmoid): Sigmoid()\n",
       ")"
      ]
     },
     "execution_count": 9,
     "metadata": {},
     "output_type": "execute_result"
    }
   ],
   "source": [
    "# loading the model  \n",
    "\n",
    "tr = 0.8\n",
    "noise_dim = 16\n",
    "hidden_dim = 32\n",
    "val = True\n",
    "data_model = 'log'\n",
    "\n",
    "gen = VGS.Generator(noise_dim=noise_dim,cond_dim=condition_train.shape[2], hidden_dim=hidden_dim,output_dim=true_train.shape[2],mean_in = m_in, std_in = sigma_in, mean_out = m_out, std_out = sigma_out)\n",
    "gen.to(device)\n",
    "disc = VGS.Discriminator(in_dim = condition_train.shape[2] + true_train.shape[2], hidden_dim = hidden_dim, mean = m_disc, std = sigma_disc)\n",
    "disc.to(device)"
   ]
  },
  {
   "cell_type": "code",
   "execution_count": 10,
   "metadata": {},
   "outputs": [
    {
     "data": {
      "text/plain": [
       "<All keys matched successfully>"
      ]
     },
     "execution_count": 10,
     "metadata": {},
     "output_type": "execute_result"
    }
   ],
   "source": [
    "gen.load_state_dict(torch.load(gen_filepath))\n",
    "disc.load_state_dict(torch.load(disc_filepath))"
   ]
  },
  {
   "cell_type": "markdown",
   "metadata": {},
   "source": [
    "### 3.2 Using the Generator\n",
    "\n",
    "We provide sample code for the following:\n",
    "- Producing one set of surfaces and exporting the data\n",
    "- Producing one set of returns and exporting the data"
   ]
  },
  {
   "cell_type": "code",
   "execution_count": 133,
   "metadata": {},
   "outputs": [
    {
     "name": "stdout",
     "output_type": "stream",
     "text": [
      "Data model: log\n",
      "Number of test samples: 164\n"
     ]
    }
   ],
   "source": [
    "n_test = true_test.shape[0]\n",
    "underlying_dim = true_test.shape[1]\n",
    "\n",
    "time_series_returns = []\n",
    "time_series_surfaces = []\n",
    "\n",
    "print(f'Data model: {data_model}')\n",
    "print(f'Number of test samples: {n_test}')"
   ]
  },
  {
   "cell_type": "code",
   "execution_count": 134,
   "metadata": {},
   "outputs": [
    {
     "name": "stderr",
     "output_type": "stream",
     "text": [
      "100%|██████████| 164/164 [00:00<00:00, 4199.73it/s]\n"
     ]
    }
   ],
   "source": [
    "gen.eval()\n",
    "with torch.no_grad():\n",
    "    for l in tqdm(range(n_test)):\n",
    "        #sample noise\n",
    "        noise = torch.randn((1, underlying_dim, noise_dim), device=device,dtype=torch.float)\n",
    "        #sample from the generator\n",
    "        fake = gen(noise, condition_test[l,:,:].unsqueeze(0))\n",
    "\n",
    "        #simulated returns\n",
    "        fake_returns = fake[:,:,:1].squeeze(0).T\n",
    "        fake_surface_increment = fake[:,:,1:]\n",
    "\n",
    "        time_series_returns.append(fake_returns)\n",
    "\n",
    "        # #simulated implied vol surfaces as vectors\n",
    "        surface_past_test = condition_test[l,:,3:].unsqueeze(0)\n",
    "\n",
    "        if data_model == 'normal':\n",
    "            fake_surface = fake_surface_increment + surface_past_test\n",
    "        elif data_model == 'log':\n",
    "            fake_surface = torch.exp(fake_surface_increment + surface_past_test)\n",
    "\n",
    "        time_series_surfaces.append(fake_surface.squeeze(0).T)"
   ]
  },
  {
   "cell_type": "markdown",
   "metadata": {},
   "source": [
    "Here's how to put the generated data in a form similar to the original data we had.\n",
    "\n",
    "First the surfaces, then the returns."
   ]
  },
  {
   "cell_type": "code",
   "execution_count": 135,
   "metadata": {},
   "outputs": [],
   "source": [
    "# get dates from test set and headers from original data\n",
    "test_dates = dates_dt[-n_test:]\n",
    "test_dates.name = 'Date'\n",
    "df_raw = pd.read_excel(VOLATILITY_DATA, header=None)\n",
    "multi_index = pd.MultiIndex.from_arrays([df_raw.iloc[0], df_raw.iloc[1], df_raw.iloc[2]])\n",
    "multi_index.names = multi_index[0]\n",
    "multi_index = multi_index[1:]"
   ]
  },
  {
   "cell_type": "code",
   "execution_count": 136,
   "metadata": {},
   "outputs": [],
   "source": [
    "# surfaces\n",
    "cat_surfaces = torch.cat(time_series_surfaces, dim=0)\n",
    "generated_surfaces = pd.DataFrame(cat_surfaces, columns = multi_index, index = test_dates)\n",
    "generated_surfaces.to_csv('outputs/generated_surfaces.csv')"
   ]
  },
  {
   "cell_type": "code",
   "execution_count": 137,
   "metadata": {},
   "outputs": [
    {
     "data": {
      "text/html": [
       "<div>\n",
       "<style scoped>\n",
       "    .dataframe tbody tr th:only-of-type {\n",
       "        vertical-align: middle;\n",
       "    }\n",
       "\n",
       "    .dataframe tbody tr th {\n",
       "        vertical-align: top;\n",
       "    }\n",
       "\n",
       "    .dataframe thead tr th {\n",
       "        text-align: left;\n",
       "    }\n",
       "\n",
       "    .dataframe thead tr:last-of-type th {\n",
       "        text-align: right;\n",
       "    }\n",
       "</style>\n",
       "<table border=\"1\" class=\"dataframe\">\n",
       "  <thead>\n",
       "    <tr>\n",
       "      <th>MATRUITY (EXPIRY)</th>\n",
       "      <th colspan=\"9\" halign=\"left\">1M</th>\n",
       "      <th>3M</th>\n",
       "      <th>...</th>\n",
       "      <th>20Y</th>\n",
       "      <th colspan=\"9\" halign=\"left\">25Y</th>\n",
       "    </tr>\n",
       "    <tr>\n",
       "      <th>TERM (TENOR)</th>\n",
       "      <th>1Y</th>\n",
       "      <th>2Y</th>\n",
       "      <th>3Y</th>\n",
       "      <th>4Y</th>\n",
       "      <th>5Y</th>\n",
       "      <th>6Y</th>\n",
       "      <th>7Y</th>\n",
       "      <th>8Y</th>\n",
       "      <th>9Y</th>\n",
       "      <th>1Y</th>\n",
       "      <th>...</th>\n",
       "      <th>9Y</th>\n",
       "      <th>1Y</th>\n",
       "      <th>2Y</th>\n",
       "      <th>3Y</th>\n",
       "      <th>4Y</th>\n",
       "      <th>5Y</th>\n",
       "      <th>6Y</th>\n",
       "      <th>7Y</th>\n",
       "      <th>8Y</th>\n",
       "      <th>9Y</th>\n",
       "    </tr>\n",
       "    <tr>\n",
       "      <th>Ticker</th>\n",
       "      <th>USSNAA1 ICPL Curncy</th>\n",
       "      <th>USSNAA2 ICPL Curncy</th>\n",
       "      <th>USSNAA3 ICPL Curncy</th>\n",
       "      <th>USSNAA4 ICPL Curncy</th>\n",
       "      <th>USSNAA5 ICPL Curncy</th>\n",
       "      <th>USSNAA6 ICPL Curncy</th>\n",
       "      <th>USSNAA7 ICPL Curncy</th>\n",
       "      <th>USSNAA8 ICPL Curncy</th>\n",
       "      <th>USSNAA9 ICPL Curncy</th>\n",
       "      <th>USSNAC1 ICPL Curncy</th>\n",
       "      <th>...</th>\n",
       "      <th>USSNA209 ICPL Curncy</th>\n",
       "      <th>USSNA251 ICPL Curncy</th>\n",
       "      <th>USSNA252 ICPL Curncy</th>\n",
       "      <th>USSNA253 ICPL Curncy</th>\n",
       "      <th>USSNA254 ICPL Curncy</th>\n",
       "      <th>USSNA255 ICPL Curncy</th>\n",
       "      <th>USSNA256 ICPL Curncy</th>\n",
       "      <th>USSNA257 ICPL Curncy</th>\n",
       "      <th>USSNA258 ICPL Curncy</th>\n",
       "      <th>USSNA259 ICPL Curncy</th>\n",
       "    </tr>\n",
       "    <tr>\n",
       "      <th>Date</th>\n",
       "      <th></th>\n",
       "      <th></th>\n",
       "      <th></th>\n",
       "      <th></th>\n",
       "      <th></th>\n",
       "      <th></th>\n",
       "      <th></th>\n",
       "      <th></th>\n",
       "      <th></th>\n",
       "      <th></th>\n",
       "      <th></th>\n",
       "      <th></th>\n",
       "      <th></th>\n",
       "      <th></th>\n",
       "      <th></th>\n",
       "      <th></th>\n",
       "      <th></th>\n",
       "      <th></th>\n",
       "      <th></th>\n",
       "      <th></th>\n",
       "      <th></th>\n",
       "    </tr>\n",
       "  </thead>\n",
       "  <tbody>\n",
       "    <tr>\n",
       "      <th>2024-05-14</th>\n",
       "      <td>79.960190</td>\n",
       "      <td>90.148399</td>\n",
       "      <td>74.099159</td>\n",
       "      <td>56.905029</td>\n",
       "      <td>107.232536</td>\n",
       "      <td>54.583782</td>\n",
       "      <td>76.991951</td>\n",
       "      <td>30.354326</td>\n",
       "      <td>51.329498</td>\n",
       "      <td>41.069500</td>\n",
       "      <td>...</td>\n",
       "      <td>37.90181</td>\n",
       "      <td>41.517387</td>\n",
       "      <td>28.255728</td>\n",
       "      <td>29.545643</td>\n",
       "      <td>53.634987</td>\n",
       "      <td>28.948492</td>\n",
       "      <td>34.801781</td>\n",
       "      <td>28.294079</td>\n",
       "      <td>43.212334</td>\n",
       "      <td>30.297512</td>\n",
       "    </tr>\n",
       "    <tr>\n",
       "      <th>2024-05-15</th>\n",
       "      <td>50.217064</td>\n",
       "      <td>86.434784</td>\n",
       "      <td>113.077843</td>\n",
       "      <td>89.199738</td>\n",
       "      <td>79.946274</td>\n",
       "      <td>72.144684</td>\n",
       "      <td>82.258469</td>\n",
       "      <td>88.840797</td>\n",
       "      <td>59.372963</td>\n",
       "      <td>63.004108</td>\n",
       "      <td>...</td>\n",
       "      <td>41.53212</td>\n",
       "      <td>53.104336</td>\n",
       "      <td>47.701462</td>\n",
       "      <td>45.216816</td>\n",
       "      <td>56.510567</td>\n",
       "      <td>40.937279</td>\n",
       "      <td>44.495083</td>\n",
       "      <td>40.514172</td>\n",
       "      <td>40.606426</td>\n",
       "      <td>56.176079</td>\n",
       "    </tr>\n",
       "  </tbody>\n",
       "</table>\n",
       "<p>2 rows × 135 columns</p>\n",
       "</div>"
      ],
      "text/plain": [
       "MATRUITY (EXPIRY)                  1M                                          \\\n",
       "TERM (TENOR)                       1Y                  2Y                  3Y   \n",
       "Ticker            USSNAA1 ICPL Curncy USSNAA2 ICPL Curncy USSNAA3 ICPL Curncy   \n",
       "Date                                                                            \n",
       "2024-05-14                  79.960190           90.148399           74.099159   \n",
       "2024-05-15                  50.217064           86.434784          113.077843   \n",
       "\n",
       "MATRUITY (EXPIRY)                                                              \\\n",
       "TERM (TENOR)                       4Y                  5Y                  6Y   \n",
       "Ticker            USSNAA4 ICPL Curncy USSNAA5 ICPL Curncy USSNAA6 ICPL Curncy   \n",
       "Date                                                                            \n",
       "2024-05-14                  56.905029          107.232536           54.583782   \n",
       "2024-05-15                  89.199738           79.946274           72.144684   \n",
       "\n",
       "MATRUITY (EXPIRY)                                                              \\\n",
       "TERM (TENOR)                       7Y                  8Y                  9Y   \n",
       "Ticker            USSNAA7 ICPL Curncy USSNAA8 ICPL Curncy USSNAA9 ICPL Curncy   \n",
       "Date                                                                            \n",
       "2024-05-14                  76.991951           30.354326           51.329498   \n",
       "2024-05-15                  82.258469           88.840797           59.372963   \n",
       "\n",
       "MATRUITY (EXPIRY)                  3M  ...                  20Y  \\\n",
       "TERM (TENOR)                       1Y  ...                   9Y   \n",
       "Ticker            USSNAC1 ICPL Curncy  ... USSNA209 ICPL Curncy   \n",
       "Date                                   ...                        \n",
       "2024-05-14                  41.069500  ...             37.90181   \n",
       "2024-05-15                  63.004108  ...             41.53212   \n",
       "\n",
       "MATRUITY (EXPIRY)                  25Y                       \\\n",
       "TERM (TENOR)                        1Y                   2Y   \n",
       "Ticker            USSNA251 ICPL Curncy USSNA252 ICPL Curncy   \n",
       "Date                                                          \n",
       "2024-05-14                   41.517387            28.255728   \n",
       "2024-05-15                   53.104336            47.701462   \n",
       "\n",
       "MATRUITY (EXPIRY)                                            \\\n",
       "TERM (TENOR)                        3Y                   4Y   \n",
       "Ticker            USSNA253 ICPL Curncy USSNA254 ICPL Curncy   \n",
       "Date                                                          \n",
       "2024-05-14                   29.545643            53.634987   \n",
       "2024-05-15                   45.216816            56.510567   \n",
       "\n",
       "MATRUITY (EXPIRY)                                            \\\n",
       "TERM (TENOR)                        5Y                   6Y   \n",
       "Ticker            USSNA255 ICPL Curncy USSNA256 ICPL Curncy   \n",
       "Date                                                          \n",
       "2024-05-14                   28.948492            34.801781   \n",
       "2024-05-15                   40.937279            44.495083   \n",
       "\n",
       "MATRUITY (EXPIRY)                                            \\\n",
       "TERM (TENOR)                        7Y                   8Y   \n",
       "Ticker            USSNA257 ICPL Curncy USSNA258 ICPL Curncy   \n",
       "Date                                                          \n",
       "2024-05-14                   28.294079            43.212334   \n",
       "2024-05-15                   40.514172            40.606426   \n",
       "\n",
       "MATRUITY (EXPIRY)                       \n",
       "TERM (TENOR)                        9Y  \n",
       "Ticker            USSNA259 ICPL Curncy  \n",
       "Date                                    \n",
       "2024-05-14                   30.297512  \n",
       "2024-05-15                   56.176079  \n",
       "\n",
       "[2 rows x 135 columns]"
      ]
     },
     "execution_count": 137,
     "metadata": {},
     "output_type": "execute_result"
    }
   ],
   "source": [
    "generated_surfaces.head(2)"
   ]
  },
  {
   "cell_type": "code",
   "execution_count": 138,
   "metadata": {},
   "outputs": [],
   "source": [
    "# returns\n",
    "\n",
    "cat_returns = torch.cat(time_series_returns, dim=0)\n",
    "generated_returns = pd.DataFrame(cat_returns, columns = multi_index, index = test_dates)\n",
    "generated_returns.to_csv('outputs/generated_returns.csv')"
   ]
  },
  {
   "cell_type": "code",
   "execution_count": 139,
   "metadata": {},
   "outputs": [
    {
     "data": {
      "text/html": [
       "<div>\n",
       "<style scoped>\n",
       "    .dataframe tbody tr th:only-of-type {\n",
       "        vertical-align: middle;\n",
       "    }\n",
       "\n",
       "    .dataframe tbody tr th {\n",
       "        vertical-align: top;\n",
       "    }\n",
       "\n",
       "    .dataframe thead tr th {\n",
       "        text-align: left;\n",
       "    }\n",
       "\n",
       "    .dataframe thead tr:last-of-type th {\n",
       "        text-align: right;\n",
       "    }\n",
       "</style>\n",
       "<table border=\"1\" class=\"dataframe\">\n",
       "  <thead>\n",
       "    <tr>\n",
       "      <th>MATRUITY (EXPIRY)</th>\n",
       "      <th colspan=\"9\" halign=\"left\">1M</th>\n",
       "      <th>3M</th>\n",
       "      <th>...</th>\n",
       "      <th>20Y</th>\n",
       "      <th colspan=\"9\" halign=\"left\">25Y</th>\n",
       "    </tr>\n",
       "    <tr>\n",
       "      <th>TERM (TENOR)</th>\n",
       "      <th>1Y</th>\n",
       "      <th>2Y</th>\n",
       "      <th>3Y</th>\n",
       "      <th>4Y</th>\n",
       "      <th>5Y</th>\n",
       "      <th>6Y</th>\n",
       "      <th>7Y</th>\n",
       "      <th>8Y</th>\n",
       "      <th>9Y</th>\n",
       "      <th>1Y</th>\n",
       "      <th>...</th>\n",
       "      <th>9Y</th>\n",
       "      <th>1Y</th>\n",
       "      <th>2Y</th>\n",
       "      <th>3Y</th>\n",
       "      <th>4Y</th>\n",
       "      <th>5Y</th>\n",
       "      <th>6Y</th>\n",
       "      <th>7Y</th>\n",
       "      <th>8Y</th>\n",
       "      <th>9Y</th>\n",
       "    </tr>\n",
       "    <tr>\n",
       "      <th>Ticker</th>\n",
       "      <th>USSNAA1 ICPL Curncy</th>\n",
       "      <th>USSNAA2 ICPL Curncy</th>\n",
       "      <th>USSNAA3 ICPL Curncy</th>\n",
       "      <th>USSNAA4 ICPL Curncy</th>\n",
       "      <th>USSNAA5 ICPL Curncy</th>\n",
       "      <th>USSNAA6 ICPL Curncy</th>\n",
       "      <th>USSNAA7 ICPL Curncy</th>\n",
       "      <th>USSNAA8 ICPL Curncy</th>\n",
       "      <th>USSNAA9 ICPL Curncy</th>\n",
       "      <th>USSNAC1 ICPL Curncy</th>\n",
       "      <th>...</th>\n",
       "      <th>USSNA209 ICPL Curncy</th>\n",
       "      <th>USSNA251 ICPL Curncy</th>\n",
       "      <th>USSNA252 ICPL Curncy</th>\n",
       "      <th>USSNA253 ICPL Curncy</th>\n",
       "      <th>USSNA254 ICPL Curncy</th>\n",
       "      <th>USSNA255 ICPL Curncy</th>\n",
       "      <th>USSNA256 ICPL Curncy</th>\n",
       "      <th>USSNA257 ICPL Curncy</th>\n",
       "      <th>USSNA258 ICPL Curncy</th>\n",
       "      <th>USSNA259 ICPL Curncy</th>\n",
       "    </tr>\n",
       "    <tr>\n",
       "      <th>Date</th>\n",
       "      <th></th>\n",
       "      <th></th>\n",
       "      <th></th>\n",
       "      <th></th>\n",
       "      <th></th>\n",
       "      <th></th>\n",
       "      <th></th>\n",
       "      <th></th>\n",
       "      <th></th>\n",
       "      <th></th>\n",
       "      <th></th>\n",
       "      <th></th>\n",
       "      <th></th>\n",
       "      <th></th>\n",
       "      <th></th>\n",
       "      <th></th>\n",
       "      <th></th>\n",
       "      <th></th>\n",
       "      <th></th>\n",
       "      <th></th>\n",
       "      <th></th>\n",
       "    </tr>\n",
       "  </thead>\n",
       "  <tbody>\n",
       "    <tr>\n",
       "      <th>2024-05-14</th>\n",
       "      <td>10.975737</td>\n",
       "      <td>19.141958</td>\n",
       "      <td>0.235657</td>\n",
       "      <td>-10.065916</td>\n",
       "      <td>7.777849</td>\n",
       "      <td>-6.485984</td>\n",
       "      <td>4.572744</td>\n",
       "      <td>35.240875</td>\n",
       "      <td>-18.861460</td>\n",
       "      <td>-11.835158</td>\n",
       "      <td>...</td>\n",
       "      <td>-45.018532</td>\n",
       "      <td>-0.821143</td>\n",
       "      <td>-24.126741</td>\n",
       "      <td>-28.111811</td>\n",
       "      <td>11.070756</td>\n",
       "      <td>-28.028233</td>\n",
       "      <td>-3.176831</td>\n",
       "      <td>-9.548198</td>\n",
       "      <td>2.476001</td>\n",
       "      <td>-28.756302</td>\n",
       "    </tr>\n",
       "    <tr>\n",
       "      <th>2024-05-15</th>\n",
       "      <td>-7.915652</td>\n",
       "      <td>-26.013765</td>\n",
       "      <td>29.439917</td>\n",
       "      <td>10.302256</td>\n",
       "      <td>-32.436298</td>\n",
       "      <td>4.304298</td>\n",
       "      <td>31.781370</td>\n",
       "      <td>27.080303</td>\n",
       "      <td>-20.063795</td>\n",
       "      <td>3.167177</td>\n",
       "      <td>...</td>\n",
       "      <td>-15.108263</td>\n",
       "      <td>1.690843</td>\n",
       "      <td>-3.362863</td>\n",
       "      <td>-10.284405</td>\n",
       "      <td>24.587872</td>\n",
       "      <td>-8.539326</td>\n",
       "      <td>0.770321</td>\n",
       "      <td>-6.416103</td>\n",
       "      <td>-24.104399</td>\n",
       "      <td>20.494055</td>\n",
       "    </tr>\n",
       "  </tbody>\n",
       "</table>\n",
       "<p>2 rows × 135 columns</p>\n",
       "</div>"
      ],
      "text/plain": [
       "MATRUITY (EXPIRY)                  1M                                          \\\n",
       "TERM (TENOR)                       1Y                  2Y                  3Y   \n",
       "Ticker            USSNAA1 ICPL Curncy USSNAA2 ICPL Curncy USSNAA3 ICPL Curncy   \n",
       "Date                                                                            \n",
       "2024-05-14                  10.975737           19.141958            0.235657   \n",
       "2024-05-15                  -7.915652          -26.013765           29.439917   \n",
       "\n",
       "MATRUITY (EXPIRY)                                                              \\\n",
       "TERM (TENOR)                       4Y                  5Y                  6Y   \n",
       "Ticker            USSNAA4 ICPL Curncy USSNAA5 ICPL Curncy USSNAA6 ICPL Curncy   \n",
       "Date                                                                            \n",
       "2024-05-14                 -10.065916            7.777849           -6.485984   \n",
       "2024-05-15                  10.302256          -32.436298            4.304298   \n",
       "\n",
       "MATRUITY (EXPIRY)                                                              \\\n",
       "TERM (TENOR)                       7Y                  8Y                  9Y   \n",
       "Ticker            USSNAA7 ICPL Curncy USSNAA8 ICPL Curncy USSNAA9 ICPL Curncy   \n",
       "Date                                                                            \n",
       "2024-05-14                   4.572744           35.240875          -18.861460   \n",
       "2024-05-15                  31.781370           27.080303          -20.063795   \n",
       "\n",
       "MATRUITY (EXPIRY)                  3M  ...                  20Y  \\\n",
       "TERM (TENOR)                       1Y  ...                   9Y   \n",
       "Ticker            USSNAC1 ICPL Curncy  ... USSNA209 ICPL Curncy   \n",
       "Date                                   ...                        \n",
       "2024-05-14                 -11.835158  ...           -45.018532   \n",
       "2024-05-15                   3.167177  ...           -15.108263   \n",
       "\n",
       "MATRUITY (EXPIRY)                  25Y                       \\\n",
       "TERM (TENOR)                        1Y                   2Y   \n",
       "Ticker            USSNA251 ICPL Curncy USSNA252 ICPL Curncy   \n",
       "Date                                                          \n",
       "2024-05-14                   -0.821143           -24.126741   \n",
       "2024-05-15                    1.690843            -3.362863   \n",
       "\n",
       "MATRUITY (EXPIRY)                                            \\\n",
       "TERM (TENOR)                        3Y                   4Y   \n",
       "Ticker            USSNA253 ICPL Curncy USSNA254 ICPL Curncy   \n",
       "Date                                                          \n",
       "2024-05-14                  -28.111811            11.070756   \n",
       "2024-05-15                  -10.284405            24.587872   \n",
       "\n",
       "MATRUITY (EXPIRY)                                            \\\n",
       "TERM (TENOR)                        5Y                   6Y   \n",
       "Ticker            USSNA255 ICPL Curncy USSNA256 ICPL Curncy   \n",
       "Date                                                          \n",
       "2024-05-14                  -28.028233            -3.176831   \n",
       "2024-05-15                   -8.539326             0.770321   \n",
       "\n",
       "MATRUITY (EXPIRY)                                            \\\n",
       "TERM (TENOR)                        7Y                   8Y   \n",
       "Ticker            USSNA257 ICPL Curncy USSNA258 ICPL Curncy   \n",
       "Date                                                          \n",
       "2024-05-14                   -9.548198             2.476001   \n",
       "2024-05-15                   -6.416103           -24.104399   \n",
       "\n",
       "MATRUITY (EXPIRY)                       \n",
       "TERM (TENOR)                        9Y  \n",
       "Ticker            USSNA259 ICPL Curncy  \n",
       "Date                                    \n",
       "2024-05-14                  -28.756302  \n",
       "2024-05-15                   20.494055  \n",
       "\n",
       "[2 rows x 135 columns]"
      ]
     },
     "execution_count": 139,
     "metadata": {},
     "output_type": "execute_result"
    }
   ],
   "source": [
    "generated_returns.head(2)"
   ]
  },
  {
   "cell_type": "markdown",
   "metadata": {},
   "source": [
    "## 4. Model Evaluation\n",
    "\n",
    "In this section we provide sample code for the following:\n",
    "- Visualizing the results from the gradient matching process (figure 3 in the original paper)\n",
    "- Producing confidence intervals for surfaces and returns in Monte Carlo manner (section 4.2.3 in the original paper)\n",
    "- Evaluating market dynamics using PCA (section 4.2.5 in the original paper)"
   ]
  },
  {
   "cell_type": "markdown",
   "metadata": {},
   "source": [
    "### 4.1 Gradient Matching Visualization\n",
    "\n",
    "Here we reproduce the result of the gradient matching process in the paper using `n_grad` at 25 epochs.\n",
    "\n",
    "The function is named `GradientMatchingPlot` which is the same as the original code provided, but we made modifications from the original code in light of the changes from this project.\n",
    "\n",
    "In practice with the new dimensionality and dataset, we find that in order for the gradient norms to converge the gradient matching process should be longer."
   ]
  },
  {
   "cell_type": "code",
   "execution_count": 140,
   "metadata": {},
   "outputs": [],
   "source": [
    "tr = 0.85\n",
    "noise_dim = 32\n",
    "hidden_dim = 16\n",
    "n_epochs = 50000\n",
    "n_grad = 25\n",
    "val = True\n",
    "data_model = 'normal'\n",
    "lrg = 0.0001 \n",
    "lrd = 0.0001 \n",
    "batch_size = 100 \n",
    "\n",
    "true_train, true_test, condition_train, condition_test,  m_in,sigma_in, m_out, sigma_out, dates_t,  tenor, tau, tenors, taus = VGS.DataTrainTest(FORWARDS_DATA, VOLATILITY_DATA, tr, data_model, device)\n",
    "gen = VGS.Generator(noise_dim=noise_dim,cond_dim=condition_train.shape[2], hidden_dim=hidden_dim,output_dim=true_train.shape[2],mean_in = m_in, std_in = sigma_in, mean_out = m_out, std_out = sigma_out)\n",
    "gen.to(device)\n",
    "\n",
    "# m_disc and sigma_disc are not used in the original VolGAN, you can see in the Discriminator forward function \n",
    "# we'll preserve the forward pass for now but we can maybe incorporate these later if needed    \n",
    "m_disc = torch.cat((m_in,m_out),dim=-1)\n",
    "sigma_disc = torch.cat((sigma_in,sigma_out),dim=-1)\n",
    "\n",
    "disc = VGS.Discriminator(in_dim = condition_train.shape[2] + true_train.shape[2], hidden_dim = hidden_dim, mean = m_disc, std = sigma_disc)\n",
    "disc.to(device)\n",
    "\n",
    "true_val = False\n",
    "condition_val = False\n",
    "\n",
    "gen_opt = torch.optim.RMSprop(gen.parameters(), lr=lrg)\n",
    "disc_opt = torch.optim.RMSprop(disc.parameters(), lr=lrd)\n",
    "\n",
    "criterion = nn.BCELoss()\n",
    "criterion = criterion.to(device)"
   ]
  },
  {
   "cell_type": "code",
   "execution_count": 141,
   "metadata": {},
   "outputs": [
    {
     "name": "stderr",
     "output_type": "stream",
     "text": [
      "100%|██████████| 25/25 [00:06<00:00,  3.80it/s]\n"
     ]
    },
    {
     "data": {
      "image/png": "[encoded data removed]",
      "text/plain": [
       "<Figure size 640x480 with 1 Axes>"
      ]
     },
     "metadata": {},
     "output_type": "display_data"
    },
    {
     "data": {
      "image/png": "[encoded data removed]",
      "text/plain": [
       "<Figure size 640x480 with 1 Axes>"
      ]
     },
     "metadata": {},
     "output_type": "display_data"
    },
    {
     "data": {
      "image/png": "[encoded data removed]",
      "text/plain": [
       "<Figure size 640x480 with 1 Axes>"
      ]
     },
     "metadata": {},
     "output_type": "display_data"
    },
    {
     "name": "stdout",
     "output_type": "stream",
     "text": [
      "alpha : 2.691626746109055e-07 beta : 4.351463181600397e-05\n"
     ]
    }
   ],
   "source": [
    "gen,gen_opt,disc,disc_opt,criterion, alpha, beta = VGS.GradientMatchingPlot(gen,gen_opt,disc,disc_opt,criterion,condition_train,true_train,tenor,tau,tenors,taus,n_grad,lrg,lrd,batch_size,noise_dim,device, data_model=data_model)"
   ]
  },
  {
   "cell_type": "markdown",
   "metadata": {},
   "source": [
    "### 4.2 Confidence Intervals\n",
    "\n",
    "Here is sample code for producing many surfaces in a Monte Carlo manner and then extracting the confidence intervals for a specific underlying.\n",
    "\n",
    "The example provided is the 1 Month Expiry and 1 Year Tenor Swaption.\n",
    "\n",
    "Remember to load the correct generator parameters before utilizing this code."
   ]
  },
  {
   "cell_type": "code",
   "execution_count": 11,
   "metadata": {},
   "outputs": [
    {
     "name": "stdout",
     "output_type": "stream",
     "text": [
      "Model: log\n"
     ]
    },
    {
     "name": "stderr",
     "output_type": "stream",
     "text": [
      "100%|██████████| 10000/10000 [01:17<00:00, 128.50it/s]\n"
     ]
    }
   ],
   "source": [
    "n_test = true_test.shape[0]\n",
    "underlying_dim = true_test.shape[1]\n",
    "B = 10000\n",
    "\n",
    "# collecting test surfaces from the generator\n",
    "\n",
    "time_series_surfaces = []\n",
    "\n",
    "print(f'Model: {data_model}')\n",
    "\n",
    "with torch.no_grad():\n",
    "    for l in tqdm(range(B)):\n",
    "        #sample noise\n",
    "        noise = torch.randn((n_test, underlying_dim, noise_dim), device=device,dtype=torch.float)\n",
    "        #sample from the generator\n",
    "        fake = gen(noise,condition_test[:,:,:])\n",
    "        surface_past_test = condition_test[:,:,3:]\n",
    "\n",
    "        #simulated implied vol surfaces as vectors\n",
    "        if data_model == 'normal':\n",
    "            fake_surface = fake[:,:,1:] + surface_past_test\n",
    "        elif data_model == 'log':\n",
    "            fake_surface = torch.exp(fake[:,:,1:] + surface_past_test)\n",
    "    \n",
    "        time_series_surfaces.append(fake_surface[:, 0, 0])"
   ]
  },
  {
   "cell_type": "code",
   "execution_count": 12,
   "metadata": {},
   "outputs": [],
   "source": [
    "Y1_M1_pred = pd.DataFrame(time_series_surfaces)\n",
    "Y1_M1_pred = Y1_M1_pred.applymap(lambda x: x.item() if isinstance(x, torch.Tensor) else x)"
   ]
  },
  {
   "cell_type": "code",
   "execution_count": 13,
   "metadata": {},
   "outputs": [],
   "source": [
    "percentile_2_5 = Y1_M1_pred.quantile(0.025).shift(1)\n",
    "percentile_97_5 = Y1_M1_pred.quantile(0.975).shift(1)\n",
    "\n",
    "percentile_df = pd.DataFrame({\n",
    "    '2.5 percentile': percentile_2_5,\n",
    "    '97.5 percentile': percentile_97_5\n",
    "})"
   ]
  },
  {
   "cell_type": "code",
   "execution_count": 14,
   "metadata": {},
   "outputs": [],
   "source": [
    "percentile_df.index = pd.to_datetime(dates_t[-n_test:])"
   ]
  },
  {
   "cell_type": "code",
   "execution_count": 15,
   "metadata": {},
   "outputs": [],
   "source": [
    "true_surfaces = pd.read_excel(VOLATILITY_DATA, header=[0,1,2], index_col=0).sort_index()\n",
    "\n",
    "true_surfaces.index = pd.to_datetime(true_surfaces.index)\n",
    "true_surfaces = true_surfaces.loc[dates_t[-n_test]:]"
   ]
  },
  {
   "cell_type": "code",
   "execution_count": 16,
   "metadata": {},
   "outputs": [],
   "source": [
    "percentile_df['true'] = true_surfaces.iloc[:, 0]"
   ]
  },
  {
   "cell_type": "code",
   "execution_count": 17,
   "metadata": {},
   "outputs": [
    {
     "data": {
      "image/png": "[encoded data removed]",
      "text/plain": [
       "<Figure size 1200x600 with 1 Axes>"
      ]
     },
     "metadata": {},
     "output_type": "display_data"
    }
   ],
   "source": [
    "# Plot\n",
    "plt.figure(figsize=(12, 6))\n",
    "plt.plot(percentile_df.index, percentile_df[\"2.5 percentile\"], linestyle=\"dotted\", color=\"blue\", label=\"2.5 Percentile\")\n",
    "plt.plot(percentile_df.index, percentile_df[\"97.5 percentile\"], linestyle=\"dotted\", color=\"red\", label=\"97.5 Percentile\")\n",
    "plt.scatter(percentile_df.index, percentile_df[\"true\"], color=\"black\", label=\"True Value\", zorder=3, s=5)\n",
    "\n",
    "# Labels and Legend\n",
    "plt.xlabel(\"Date\")\n",
    "plt.ylabel(\"Volatility\")\n",
    "plt.title(\"True Volatility vs Predicted Volatility Percentiles (1M1Y)\")\n",
    "plt.legend()\n",
    "plt.xticks(rotation=45)\n",
    "plt.grid(True, linestyle=\"--\", alpha=0.5)\n",
    "\n",
    "#restrict y axis to 0-250\n",
    "plt.ylim(0, 250)\n",
    "\n",
    "# Show plot\n",
    "plt.show()"
   ]
  },
  {
   "cell_type": "code",
   "execution_count": 20,
   "metadata": {},
   "outputs": [
    {
     "data": {
      "text/plain": [
       "True     136\n",
       "False     28\n",
       "Name: count, dtype: int64"
      ]
     },
     "execution_count": 20,
     "metadata": {},
     "output_type": "execute_result"
    }
   ],
   "source": [
    "# check if true value is within the 95% interval\n",
    "\n",
    "check = (percentile_df['true'] > percentile_df['2.5 percentile']) & (percentile_df['true'] < percentile_df['97.5 percentile'])\n",
    "check.value_counts()"
   ]
  },
  {
   "cell_type": "markdown",
   "metadata": {},
   "source": [
    "### 4.3 Market Dynamics\n",
    "\n",
    "Like the paper, we can evaluate the ability for the model to learn and the quality of the surfaces by using PCA to see whether or not it was able to learn market dynamics."
   ]
  },
  {
   "cell_type": "code",
   "execution_count": 21,
   "metadata": {},
   "outputs": [],
   "source": [
    "# get out of sample log increments for the true surfaces\n",
    "\n",
    "true_surfaces = pd.read_excel(VOLATILITY_DATA, header=[0,1,2], index_col=0).sort_index()\n",
    "true_surfaces.index = pd.to_datetime(true_surfaces.index)\n",
    "\n",
    "true_surfaces = true_surfaces.loc[dates_t[-n_test]:]\n",
    "\n",
    "#get log increments\n",
    "true_surfaces_log = np.log(true_surfaces).diff().dropna()"
   ]
  },
  {
   "cell_type": "code",
   "execution_count": 22,
   "metadata": {},
   "outputs": [],
   "source": [
    "past_log_surface = pd.DataFrame(condition_test[:,:,3:].squeeze())\n",
    "diff = past_log_surface.diff().dropna()"
   ]
  },
  {
   "cell_type": "code",
   "execution_count": 23,
   "metadata": {},
   "outputs": [
    {
     "data": {
      "text/html": [
       "<style>#sk-container-id-1 {\n",
       "  /* Definition of color scheme common for light and dark mode */\n",
       "  --sklearn-color-text: black;\n",
       "  --sklearn-color-line: gray;\n",
       "  /* Definition of color scheme for unfitted estimators */\n",
       "  --sklearn-color-unfitted-level-0: #fff5e6;\n",
       "  --sklearn-color-unfitted-level-1: #f6e4d2;\n",
       "  --sklearn-color-unfitted-level-2: #ffe0b3;\n",
       "  --sklearn-color-unfitted-level-3: chocolate;\n",
       "  /* Definition of color scheme for fitted estimators */\n",
       "  --sklearn-color-fitted-level-0: #f0f8ff;\n",
       "  --sklearn-color-fitted-level-1: #d4ebff;\n",
       "  --sklearn-color-fitted-level-2: #b3dbfd;\n",
       "  --sklearn-color-fitted-level-3: cornflowerblue;\n",
       "\n",
       "  /* Specific color for light theme */\n",
       "  --sklearn-color-text-on-default-background: var(--sg-text-color, var(--theme-code-foreground, var(--jp-content-font-color1, black)));\n",
       "  --sklearn-color-background: var(--sg-background-color, var(--theme-background, var(--jp-layout-color0, white)));\n",
       "  --sklearn-color-border-box: var(--sg-text-color, var(--theme-code-foreground, var(--jp-content-font-color1, black)));\n",
       "  --sklearn-color-icon: #696969;\n",
       "\n",
       "  @media (prefers-color-scheme: dark) {\n",
       "    /* Redefinition of color scheme for dark theme */\n",
       "    --sklearn-color-text-on-default-background: var(--sg-text-color, var(--theme-code-foreground, var(--jp-content-font-color1, white)));\n",
       "    --sklearn-color-background: var(--sg-background-color, var(--theme-background, var(--jp-layout-color0, #111)));\n",
       "    --sklearn-color-border-box: var(--sg-text-color, var(--theme-code-foreground, var(--jp-content-font-color1, white)));\n",
       "    --sklearn-color-icon: #878787;\n",
       "  }\n",
       "}\n",
       "\n",
       "#sk-container-id-1 {\n",
       "  color: var(--sklearn-color-text);\n",
       "}\n",
       "\n",
       "#sk-container-id-1 pre {\n",
       "  padding: 0;\n",
       "}\n",
       "\n",
       "#sk-container-id-1 input.sk-hidden--visually {\n",
       "  border: 0;\n",
       "  clip: rect(1px 1px 1px 1px);\n",
       "  clip: rect(1px, 1px, 1px, 1px);\n",
       "  height: 1px;\n",
       "  margin: -1px;\n",
       "  overflow: hidden;\n",
       "  padding: 0;\n",
       "  position: absolute;\n",
       "  width: 1px;\n",
       "}\n",
       "\n",
       "#sk-container-id-1 div.sk-dashed-wrapped {\n",
       "  border: 1px dashed var(--sklearn-color-line);\n",
       "  margin: 0 0.4em 0.5em 0.4em;\n",
       "  box-sizing: border-box;\n",
       "  padding-bottom: 0.4em;\n",
       "  background-color: var(--sklearn-color-background);\n",
       "}\n",
       "\n",
       "#sk-container-id-1 div.sk-container {\n",
       "  /* jupyter's `normalize.less` sets `[hidden] { display: none; }`\n",
       "     but bootstrap.min.css set `[hidden] { display: none !important; }`\n",
       "     so we also need the `!important` here to be able to override the\n",
       "     default hidden behavior on the sphinx rendered scikit-learn.org.\n",
       "     See: https://github.com/scikit-learn/scikit-learn/issues/21755 */\n",
       "  display: inline-block !important;\n",
       "  position: relative;\n",
       "}\n",
       "\n",
       "#sk-container-id-1 div.sk-text-repr-fallback {\n",
       "  display: none;\n",
       "}\n",
       "\n",
       "div.sk-parallel-item,\n",
       "div.sk-serial,\n",
       "div.sk-item {\n",
       "  /* draw centered vertical line to link estimators */\n",
       "  background-image: linear-gradient(var(--sklearn-color-text-on-default-background), var(--sklearn-color-text-on-default-background));\n",
       "  background-size: 2px 100%;\n",
       "  background-repeat: no-repeat;\n",
       "  background-position: center center;\n",
       "}\n",
       "\n",
       "/* Parallel-specific style estimator block */\n",
       "\n",
       "#sk-container-id-1 div.sk-parallel-item::after {\n",
       "  content: \"\";\n",
       "  width: 100%;\n",
       "  border-bottom: 2px solid var(--sklearn-color-text-on-default-background);\n",
       "  flex-grow: 1;\n",
       "}\n",
       "\n",
       "#sk-container-id-1 div.sk-parallel {\n",
       "  display: flex;\n",
       "  align-items: stretch;\n",
       "  justify-content: center;\n",
       "  background-color: var(--sklearn-color-background);\n",
       "  position: relative;\n",
       "}\n",
       "\n",
       "#sk-container-id-1 div.sk-parallel-item {\n",
       "  display: flex;\n",
       "  flex-direction: column;\n",
       "}\n",
       "\n",
       "#sk-container-id-1 div.sk-parallel-item:first-child::after {\n",
       "  align-self: flex-end;\n",
       "  width: 50%;\n",
       "}\n",
       "\n",
       "#sk-container-id-1 div.sk-parallel-item:last-child::after {\n",
       "  align-self: flex-start;\n",
       "  width: 50%;\n",
       "}\n",
       "\n",
       "#sk-container-id-1 div.sk-parallel-item:only-child::after {\n",
       "  width: 0;\n",
       "}\n",
       "\n",
       "/* Serial-specific style estimator block */\n",
       "\n",
       "#sk-container-id-1 div.sk-serial {\n",
       "  display: flex;\n",
       "  flex-direction: column;\n",
       "  align-items: center;\n",
       "  background-color: var(--sklearn-color-background);\n",
       "  padding-right: 1em;\n",
       "  padding-left: 1em;\n",
       "}\n",
       "\n",
       "\n",
       "/* Toggleable style: style used for estimator/Pipeline/ColumnTransformer box that is\n",
       "clickable and can be expanded/collapsed.\n",
       "- Pipeline and ColumnTransformer use this feature and define the default style\n",
       "- Estimators will overwrite some part of the style using the `sk-estimator` class\n",
       "*/\n",
       "\n",
       "/* Pipeline and ColumnTransformer style (default) */\n",
       "\n",
       "#sk-container-id-1 div.sk-toggleable {\n",
       "  /* Default theme specific background. It is overwritten whether we have a\n",
       "  specific estimator or a Pipeline/ColumnTransformer */\n",
       "  background-color: var(--sklearn-color-background);\n",
       "}\n",
       "\n",
       "/* Toggleable label */\n",
       "#sk-container-id-1 label.sk-toggleable__label {\n",
       "  cursor: pointer;\n",
       "  display: block;\n",
       "  width: 100%;\n",
       "  margin-bottom: 0;\n",
       "  padding: 0.5em;\n",
       "  box-sizing: border-box;\n",
       "  text-align: center;\n",
       "}\n",
       "\n",
       "#sk-container-id-1 label.sk-toggleable__label-arrow:before {\n",
       "  /* Arrow on the left of the label */\n",
       "  content: \"▸\";\n",
       "  float: left;\n",
       "  margin-right: 0.25em;\n",
       "  color: var(--sklearn-color-icon);\n",
       "}\n",
       "\n",
       "#sk-container-id-1 label.sk-toggleable__label-arrow:hover:before {\n",
       "  color: var(--sklearn-color-text);\n",
       "}\n",
       "\n",
       "/* Toggleable content - dropdown */\n",
       "\n",
       "#sk-container-id-1 div.sk-toggleable__content {\n",
       "  max-height: 0;\n",
       "  max-width: 0;\n",
       "  overflow: hidden;\n",
       "  text-align: left;\n",
       "  /* unfitted */\n",
       "  background-color: var(--sklearn-color-unfitted-level-0);\n",
       "}\n",
       "\n",
       "#sk-container-id-1 div.sk-toggleable__content.fitted {\n",
       "  /* fitted */\n",
       "  background-color: var(--sklearn-color-fitted-level-0);\n",
       "}\n",
       "\n",
       "#sk-container-id-1 div.sk-toggleable__content pre {\n",
       "  margin: 0.2em;\n",
       "  border-radius: 0.25em;\n",
       "  color: var(--sklearn-color-text);\n",
       "  /* unfitted */\n",
       "  background-color: var(--sklearn-color-unfitted-level-0);\n",
       "}\n",
       "\n",
       "#sk-container-id-1 div.sk-toggleable__content.fitted pre {\n",
       "  /* unfitted */\n",
       "  background-color: var(--sklearn-color-fitted-level-0);\n",
       "}\n",
       "\n",
       "#sk-container-id-1 input.sk-toggleable__control:checked~div.sk-toggleable__content {\n",
       "  /* Expand drop-down */\n",
       "  max-height: 200px;\n",
       "  max-width: 100%;\n",
       "  overflow: auto;\n",
       "}\n",
       "\n",
       "#sk-container-id-1 input.sk-toggleable__control:checked~label.sk-toggleable__label-arrow:before {\n",
       "  content: \"▾\";\n",
       "}\n",
       "\n",
       "/* Pipeline/ColumnTransformer-specific style */\n",
       "\n",
       "#sk-container-id-1 div.sk-label input.sk-toggleable__control:checked~label.sk-toggleable__label {\n",
       "  color: var(--sklearn-color-text);\n",
       "  background-color: var(--sklearn-color-unfitted-level-2);\n",
       "}\n",
       "\n",
       "#sk-container-id-1 div.sk-label.fitted input.sk-toggleable__control:checked~label.sk-toggleable__label {\n",
       "  background-color: var(--sklearn-color-fitted-level-2);\n",
       "}\n",
       "\n",
       "/* Estimator-specific style */\n",
       "\n",
       "/* Colorize estimator box */\n",
       "#sk-container-id-1 div.sk-estimator input.sk-toggleable__control:checked~label.sk-toggleable__label {\n",
       "  /* unfitted */\n",
       "  background-color: var(--sklearn-color-unfitted-level-2);\n",
       "}\n",
       "\n",
       "#sk-container-id-1 div.sk-estimator.fitted input.sk-toggleable__control:checked~label.sk-toggleable__label {\n",
       "  /* fitted */\n",
       "  background-color: var(--sklearn-color-fitted-level-2);\n",
       "}\n",
       "\n",
       "#sk-container-id-1 div.sk-label label.sk-toggleable__label,\n",
       "#sk-container-id-1 div.sk-label label {\n",
       "  /* The background is the default theme color */\n",
       "  color: var(--sklearn-color-text-on-default-background);\n",
       "}\n",
       "\n",
       "/* On hover, darken the color of the background */\n",
       "#sk-container-id-1 div.sk-label:hover label.sk-toggleable__label {\n",
       "  color: var(--sklearn-color-text);\n",
       "  background-color: var(--sklearn-color-unfitted-level-2);\n",
       "}\n",
       "\n",
       "/* Label box, darken color on hover, fitted */\n",
       "#sk-container-id-1 div.sk-label.fitted:hover label.sk-toggleable__label.fitted {\n",
       "  color: var(--sklearn-color-text);\n",
       "  background-color: var(--sklearn-color-fitted-level-2);\n",
       "}\n",
       "\n",
       "/* Estimator label */\n",
       "\n",
       "#sk-container-id-1 div.sk-label label {\n",
       "  font-family: monospace;\n",
       "  font-weight: bold;\n",
       "  display: inline-block;\n",
       "  line-height: 1.2em;\n",
       "}\n",
       "\n",
       "#sk-container-id-1 div.sk-label-container {\n",
       "  text-align: center;\n",
       "}\n",
       "\n",
       "/* Estimator-specific */\n",
       "#sk-container-id-1 div.sk-estimator {\n",
       "  font-family: monospace;\n",
       "  border: 1px dotted var(--sklearn-color-border-box);\n",
       "  border-radius: 0.25em;\n",
       "  box-sizing: border-box;\n",
       "  margin-bottom: 0.5em;\n",
       "  /* unfitted */\n",
       "  background-color: var(--sklearn-color-unfitted-level-0);\n",
       "}\n",
       "\n",
       "#sk-container-id-1 div.sk-estimator.fitted {\n",
       "  /* fitted */\n",
       "  background-color: var(--sklearn-color-fitted-level-0);\n",
       "}\n",
       "\n",
       "/* on hover */\n",
       "#sk-container-id-1 div.sk-estimator:hover {\n",
       "  /* unfitted */\n",
       "  background-color: var(--sklearn-color-unfitted-level-2);\n",
       "}\n",
       "\n",
       "#sk-container-id-1 div.sk-estimator.fitted:hover {\n",
       "  /* fitted */\n",
       "  background-color: var(--sklearn-color-fitted-level-2);\n",
       "}\n",
       "\n",
       "/* Specification for estimator info (e.g. \"i\" and \"?\") */\n",
       "\n",
       "/* Common style for \"i\" and \"?\" */\n",
       "\n",
       ".sk-estimator-doc-link,\n",
       "a:link.sk-estimator-doc-link,\n",
       "a:visited.sk-estimator-doc-link {\n",
       "  float: right;\n",
       "  font-size: smaller;\n",
       "  line-height: 1em;\n",
       "  font-family: monospace;\n",
       "  background-color: var(--sklearn-color-background);\n",
       "  border-radius: 1em;\n",
       "  height: 1em;\n",
       "  width: 1em;\n",
       "  text-decoration: none !important;\n",
       "  margin-left: 1ex;\n",
       "  /* unfitted */\n",
       "  border: var(--sklearn-color-unfitted-level-1) 1pt solid;\n",
       "  color: var(--sklearn-color-unfitted-level-1);\n",
       "}\n",
       "\n",
       ".sk-estimator-doc-link.fitted,\n",
       "a:link.sk-estimator-doc-link.fitted,\n",
       "a:visited.sk-estimator-doc-link.fitted {\n",
       "  /* fitted */\n",
       "  border: var(--sklearn-color-fitted-level-1) 1pt solid;\n",
       "  color: var(--sklearn-color-fitted-level-1);\n",
       "}\n",
       "\n",
       "/* On hover */\n",
       "div.sk-estimator:hover .sk-estimator-doc-link:hover,\n",
       ".sk-estimator-doc-link:hover,\n",
       "div.sk-label-container:hover .sk-estimator-doc-link:hover,\n",
       ".sk-estimator-doc-link:hover {\n",
       "  /* unfitted */\n",
       "  background-color: var(--sklearn-color-unfitted-level-3);\n",
       "  color: var(--sklearn-color-background);\n",
       "  text-decoration: none;\n",
       "}\n",
       "\n",
       "div.sk-estimator.fitted:hover .sk-estimator-doc-link.fitted:hover,\n",
       ".sk-estimator-doc-link.fitted:hover,\n",
       "div.sk-label-container:hover .sk-estimator-doc-link.fitted:hover,\n",
       ".sk-estimator-doc-link.fitted:hover {\n",
       "  /* fitted */\n",
       "  background-color: var(--sklearn-color-fitted-level-3);\n",
       "  color: var(--sklearn-color-background);\n",
       "  text-decoration: none;\n",
       "}\n",
       "\n",
       "/* Span, style for the box shown on hovering the info icon */\n",
       ".sk-estimator-doc-link span {\n",
       "  display: none;\n",
       "  z-index: 9999;\n",
       "  position: relative;\n",
       "  font-weight: normal;\n",
       "  right: .2ex;\n",
       "  padding: .5ex;\n",
       "  margin: .5ex;\n",
       "  width: min-content;\n",
       "  min-width: 20ex;\n",
       "  max-width: 50ex;\n",
       "  color: var(--sklearn-color-text);\n",
       "  box-shadow: 2pt 2pt 4pt #999;\n",
       "  /* unfitted */\n",
       "  background: var(--sklearn-color-unfitted-level-0);\n",
       "  border: .5pt solid var(--sklearn-color-unfitted-level-3);\n",
       "}\n",
       "\n",
       ".sk-estimator-doc-link.fitted span {\n",
       "  /* fitted */\n",
       "  background: var(--sklearn-color-fitted-level-0);\n",
       "  border: var(--sklearn-color-fitted-level-3);\n",
       "}\n",
       "\n",
       ".sk-estimator-doc-link:hover span {\n",
       "  display: block;\n",
       "}\n",
       "\n",
       "/* \"?\"-specific style due to the `<a>` HTML tag */\n",
       "\n",
       "#sk-container-id-1 a.estimator_doc_link {\n",
       "  float: right;\n",
       "  font-size: 1rem;\n",
       "  line-height: 1em;\n",
       "  font-family: monospace;\n",
       "  background-color: var(--sklearn-color-background);\n",
       "  border-radius: 1rem;\n",
       "  height: 1rem;\n",
       "  width: 1rem;\n",
       "  text-decoration: none;\n",
       "  /* unfitted */\n",
       "  color: var(--sklearn-color-unfitted-level-1);\n",
       "  border: var(--sklearn-color-unfitted-level-1) 1pt solid;\n",
       "}\n",
       "\n",
       "#sk-container-id-1 a.estimator_doc_link.fitted {\n",
       "  /* fitted */\n",
       "  border: var(--sklearn-color-fitted-level-1) 1pt solid;\n",
       "  color: var(--sklearn-color-fitted-level-1);\n",
       "}\n",
       "\n",
       "/* On hover */\n",
       "#sk-container-id-1 a.estimator_doc_link:hover {\n",
       "  /* unfitted */\n",
       "  background-color: var(--sklearn-color-unfitted-level-3);\n",
       "  color: var(--sklearn-color-background);\n",
       "  text-decoration: none;\n",
       "}\n",
       "\n",
       "#sk-container-id-1 a.estimator_doc_link.fitted:hover {\n",
       "  /* fitted */\n",
       "  background-color: var(--sklearn-color-fitted-level-3);\n",
       "}\n",
       "</style><div id=\"sk-container-id-1\" class=\"sk-top-container\"><div class=\"sk-text-repr-fallback\"><pre>PCA(n_components=10)</pre><b>In a Jupyter environment, please rerun this cell to show the HTML representation or trust the notebook. <br />On GitHub, the HTML representation is unable to render, please try loading this page with nbviewer.org.</b></div><div class=\"sk-container\" hidden><div class=\"sk-item\"><div class=\"sk-estimator fitted sk-toggleable\"><input class=\"sk-toggleable__control sk-hidden--visually\" id=\"sk-estimator-id-1\" type=\"checkbox\" checked><label for=\"sk-estimator-id-1\" class=\"sk-toggleable__label fitted sk-toggleable__label-arrow fitted\">&nbsp;&nbsp;PCA<a class=\"sk-estimator-doc-link fitted\" rel=\"noreferrer\" target=\"_blank\" href=\"https://scikit-learn.org/1.5/modules/generated/sklearn.decomposition.PCA.html\">?<span>Documentation for PCA</span></a><span class=\"sk-estimator-doc-link fitted\">i<span>Fitted</span></span></label><div class=\"sk-toggleable__content fitted\"><pre>PCA(n_components=10)</pre></div> </div></div></div></div>"
      ],
      "text/plain": [
       "PCA(n_components=10)"
      ]
     },
     "execution_count": 23,
     "metadata": {},
     "output_type": "execute_result"
    }
   ],
   "source": [
    "# pca on the true surfaces log increments\n",
    "\n",
    "from sklearn.decomposition import PCA\n",
    "\n",
    "pca = PCA(n_components=10)\n",
    "pca.fit(diff)"
   ]
  },
  {
   "cell_type": "code",
   "execution_count": null,
   "metadata": {},
   "outputs": [
    {
     "data": {
      "text/plain": [
       "array([71.04594   , 13.594114  ,  7.605908  ,  2.4986897 ,  1.3711593 ,\n",
       "        0.9249522 ,  0.5850299 ,  0.40282533,  0.24599826,  0.21774876],\n",
       "      dtype=float32)"
      ]
     },
     "execution_count": 24,
     "metadata": {},
     "output_type": "execute_result"
    }
   ],
   "source": [
    "# get the explained variance for the true surface\n",
    "\n",
    "pca.explained_variance_ratio_ * 100"
   ]
  },
  {
   "cell_type": "code",
   "execution_count": 25,
   "metadata": {},
   "outputs": [
    {
     "name": "stdout",
     "output_type": "stream",
     "text": [
      "Model: log\n"
     ]
    },
    {
     "name": "stderr",
     "output_type": "stream",
     "text": [
      "100%|██████████| 1000/1000 [01:01<00:00, 16.33it/s]\n"
     ]
    }
   ],
   "source": [
    "n_test = true_test.shape[0]\n",
    "underlying_dim = true_test.shape[1]\n",
    "B = 1000\n",
    "\n",
    "# collecting test surfaces from the generator\n",
    "\n",
    "time_series_surfaces = []\n",
    "\n",
    "print(f'Model: {data_model}')\n",
    "\n",
    "first_component = []\n",
    "second_component = []\n",
    "third_component = []\n",
    "\n",
    "with torch.no_grad():\n",
    "    for l in tqdm(range(B)):\n",
    "        #sample noise\n",
    "        noise = torch.randn((n_test, underlying_dim, noise_dim), device=device,dtype=torch.float)\n",
    "        #sample from the generator\n",
    "        fake = gen(noise,condition_test[:,:,:])\n",
    "        surface_past_test = condition_test[:,:,3:]\n",
    "\n",
    "        #simulated implied vol surfaces as vectors\n",
    "        if data_model == 'normal':\n",
    "            fake_surface = fake[:,:,1:] + surface_past_test\n",
    "        elif data_model == 'log':\n",
    "            fake_surface = torch.exp(fake[:,:,1:] + surface_past_test)\n",
    "\n",
    "        log_increments = fake[:,:,1:].squeeze()\n",
    "\n",
    "        pca = PCA(n_components=10)\n",
    "        pca.fit(log_increments)\n",
    "\n",
    "        first_component.append(pca.explained_variance_ratio_[0])\n",
    "        second_component.append(pca.explained_variance_ratio_[1])\n",
    "        third_component.append(pca.explained_variance_ratio_[2])"
   ]
  },
  {
   "cell_type": "code",
   "execution_count": 26,
   "metadata": {},
   "outputs": [],
   "source": [
    "first_component = pd.Series(first_component)\n",
    "second_component = pd.Series(second_component)\n",
    "third_component = pd.Series(third_component)"
   ]
  },
  {
   "cell_type": "code",
   "execution_count": 28,
   "metadata": {},
   "outputs": [],
   "source": [
    "first_mean, second_mean, third_mean = float(np.mean(first_component) * 100), float(np.mean(second_component) * 100), float(np.mean(third_component) * 100)\n",
    "first_bounds, second_bounds, third_bounds = float(1.96 * np.std(first_component) * 100), float(1.96 * np.std(second_component) * 100), float(1.96 * np.std(third_component) * 100)"
   ]
  },
  {
   "cell_type": "code",
   "execution_count": 29,
   "metadata": {},
   "outputs": [
    {
     "name": "stdout",
     "output_type": "stream",
     "text": [
      "Explained variance ratios for the first three components for generated surfaces:\n",
      "First component: 35.66 +/- 1.08\n",
      "Second component: 3.94 +/- 0.47\n",
      "Third component: 3.39 +/- 0.42\n"
     ]
    }
   ],
   "source": [
    "print('Explained variance ratios for the first three components for generated surfaces:')\n",
    "print(f'First component: {first_mean:.2f} +/- {first_bounds:.2f}')\n",
    "print(f'Second component: {second_mean:.2f} +/- {second_bounds:.2f}')\n",
    "print(f'Third component: {third_mean:.2f} +/- {third_bounds:.2f}')"
   ]
  }
 ],
 "metadata": {
  "kernelspec": {
   "display_name": "Python 3",
   "language": "python",
   "name": "python3"
  },
  "language_info": {
   "codemirror_mode": {
    "name": "ipython",
    "version": 3
   },
   "file_extension": ".py",
   "mimetype": "text/x-python",
   "name": "python",
   "nbconvert_exporter": "python",
   "pygments_lexer": "ipython3",
   "version": "3.11.8"
  }
 },
 "nbformat": 4,
 "nbformat_minor": 2
}
