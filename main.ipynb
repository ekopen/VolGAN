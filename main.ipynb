{
 "cells": [
  {
   "cell_type": "markdown",
   "metadata": {},
   "source": [
    "**Here, we are going to replicate the VolGAN-example file, by demonstrating the modifications we are making to the VolGAN file and introducing new functions we have created.**"
   ]
  },
  {
   "cell_type": "code",
   "execution_count": 1,
   "metadata": {},
   "outputs": [],
   "source": [
    "#import libraries\n",
    "\n",
    "import torch\n",
    "import numpy as np\n",
    "from tqdm import tqdm\n",
    "import matplotlib.pyplot as plt\n",
    "import pandas as pd\n",
    "from datetime import datetime\n",
    "import warnings\n",
    "import torch.nn as nn\n",
    "warnings.filterwarnings(\"ignore\")\n",
    "\n",
    "#import files with supporting functions\n",
    "import VolGAN\n",
    "import Inputs\n",
    "\n",
    "#import our data sets and a sample date for testing\n",
    "datapath = \"data/swaption_atm_vol_full.xlsx\"\n",
    "surfacepath = \"data/forward_sofr_swap_full.xlsx\"\n",
    "sampledate = datetime(2025, 1, 10, 0, 0, 0)"
   ]
  },
  {
   "cell_type": "markdown",
   "metadata": {},
   "source": [
    "**Below are some of the new functions from the Inputs file**\n",
    "\n",
    "NOTE: I can't  get the plot functions to work, nor tabular_rvol_form (for some bizzare reason)"
   ]
  },
  {
   "cell_type": "code",
   "execution_count": 2,
   "metadata": {},
   "outputs": [
    {
     "data": {
      "text/html": [
       "<div>\n",
       "<style scoped>\n",
       "    .dataframe tbody tr th:only-of-type {\n",
       "        vertical-align: middle;\n",
       "    }\n",
       "\n",
       "    .dataframe tbody tr th {\n",
       "        vertical-align: top;\n",
       "    }\n",
       "\n",
       "    .dataframe thead th {\n",
       "        text-align: right;\n",
       "    }\n",
       "</style>\n",
       "<table border=\"1\" class=\"dataframe\">\n",
       "  <thead>\n",
       "    <tr style=\"text-align: right;\">\n",
       "      <th></th>\n",
       "      <th>1M</th>\n",
       "      <th>1M.1</th>\n",
       "      <th>1M.2</th>\n",
       "      <th>1M.3</th>\n",
       "      <th>1M.4</th>\n",
       "      <th>1M.5</th>\n",
       "      <th>1M.6</th>\n",
       "      <th>1M.7</th>\n",
       "      <th>1M.8</th>\n",
       "      <th>3M</th>\n",
       "      <th>...</th>\n",
       "      <th>25Y.8</th>\n",
       "      <th>30Y</th>\n",
       "      <th>30Y.1</th>\n",
       "      <th>30Y.2</th>\n",
       "      <th>30Y.3</th>\n",
       "      <th>30Y.4</th>\n",
       "      <th>30Y.5</th>\n",
       "      <th>30Y.6</th>\n",
       "      <th>30Y.7</th>\n",
       "      <th>30Y.8</th>\n",
       "    </tr>\n",
       "    <tr>\n",
       "      <th>TERM (TENOR)</th>\n",
       "      <th></th>\n",
       "      <th></th>\n",
       "      <th></th>\n",
       "      <th></th>\n",
       "      <th></th>\n",
       "      <th></th>\n",
       "      <th></th>\n",
       "      <th></th>\n",
       "      <th></th>\n",
       "      <th></th>\n",
       "      <th></th>\n",
       "      <th></th>\n",
       "      <th></th>\n",
       "      <th></th>\n",
       "      <th></th>\n",
       "      <th></th>\n",
       "      <th></th>\n",
       "      <th></th>\n",
       "      <th></th>\n",
       "      <th></th>\n",
       "      <th></th>\n",
       "    </tr>\n",
       "  </thead>\n",
       "  <tbody>\n",
       "    <tr>\n",
       "      <th>MATRUITY (EXPIRY)</th>\n",
       "      <td>1Y</td>\n",
       "      <td>2Y</td>\n",
       "      <td>3Y</td>\n",
       "      <td>4Y</td>\n",
       "      <td>5Y</td>\n",
       "      <td>6Y</td>\n",
       "      <td>7Y</td>\n",
       "      <td>8Y</td>\n",
       "      <td>9Y</td>\n",
       "      <td>1Y</td>\n",
       "      <td>...</td>\n",
       "      <td>9Y</td>\n",
       "      <td>1Y</td>\n",
       "      <td>2Y</td>\n",
       "      <td>3Y</td>\n",
       "      <td>4Y</td>\n",
       "      <td>5Y</td>\n",
       "      <td>6Y</td>\n",
       "      <td>7Y</td>\n",
       "      <td>8Y</td>\n",
       "      <td>9Y</td>\n",
       "    </tr>\n",
       "    <tr>\n",
       "      <th>Ticker</th>\n",
       "      <td>USSNAA1 ICPL Curncy</td>\n",
       "      <td>USSNAA2 ICPL Curncy</td>\n",
       "      <td>USSNAA3 ICPL Curncy</td>\n",
       "      <td>USSNAA4 ICPL Curncy</td>\n",
       "      <td>USSNAA5 ICPL Curncy</td>\n",
       "      <td>USSNAA6 ICPL Curncy</td>\n",
       "      <td>USSNAA7 ICPL Curncy</td>\n",
       "      <td>USSNAA8 ICPL Curncy</td>\n",
       "      <td>USSNAA9 ICPL Curncy</td>\n",
       "      <td>USSNAC1 ICPL Curncy</td>\n",
       "      <td>...</td>\n",
       "      <td>USSNA259 ICPL Curncy</td>\n",
       "      <td>USSNA301 ICPL Curncy</td>\n",
       "      <td>USSNA302 ICPL Curncy</td>\n",
       "      <td>USSNA303 ICPL Curncy</td>\n",
       "      <td>USSNA304 ICPL Curncy</td>\n",
       "      <td>USSNA305 ICPL Curncy</td>\n",
       "      <td>USSNA306 ICPL Curncy</td>\n",
       "      <td>USSNA307 ICPL Curncy</td>\n",
       "      <td>USSNA308 ICPL Curncy</td>\n",
       "      <td>USSNA309 ICPL Curncy</td>\n",
       "    </tr>\n",
       "    <tr>\n",
       "      <th>2025-01-10 00:00:00</th>\n",
       "      <td>72.2</td>\n",
       "      <td>96.8</td>\n",
       "      <td>97.7</td>\n",
       "      <td>99.9</td>\n",
       "      <td>101.6</td>\n",
       "      <td>100.5</td>\n",
       "      <td>99.5</td>\n",
       "      <td>99.1</td>\n",
       "      <td>98.6</td>\n",
       "      <td>88.9</td>\n",
       "      <td>...</td>\n",
       "      <td>70.3</td>\n",
       "      <td>73.9</td>\n",
       "      <td>75</td>\n",
       "      <td>74.2</td>\n",
       "      <td>73.2</td>\n",
       "      <td>72.1</td>\n",
       "      <td>71.1</td>\n",
       "      <td>69.8</td>\n",
       "      <td>68.6</td>\n",
       "      <td>67.1</td>\n",
       "    </tr>\n",
       "    <tr>\n",
       "      <th>2025-01-09 00:00:00</th>\n",
       "      <td>79.9</td>\n",
       "      <td>101.1</td>\n",
       "      <td>102.2</td>\n",
       "      <td>103.3</td>\n",
       "      <td>104.5</td>\n",
       "      <td>103.2</td>\n",
       "      <td>101.8</td>\n",
       "      <td>101.3</td>\n",
       "      <td>100.8</td>\n",
       "      <td>88.5</td>\n",
       "      <td>...</td>\n",
       "      <td>69.7</td>\n",
       "      <td>73.1</td>\n",
       "      <td>74.2</td>\n",
       "      <td>73.5</td>\n",
       "      <td>72.4</td>\n",
       "      <td>71.4</td>\n",
       "      <td>70.4</td>\n",
       "      <td>69.1</td>\n",
       "      <td>67.9</td>\n",
       "      <td>66.4</td>\n",
       "    </tr>\n",
       "    <tr>\n",
       "      <th>2025-01-08 00:00:00</th>\n",
       "      <td>80.9</td>\n",
       "      <td>101.7</td>\n",
       "      <td>102.9</td>\n",
       "      <td>104</td>\n",
       "      <td>105.2</td>\n",
       "      <td>103.9</td>\n",
       "      <td>102.5</td>\n",
       "      <td>102</td>\n",
       "      <td>101.5</td>\n",
       "      <td>87.1</td>\n",
       "      <td>...</td>\n",
       "      <td>69.8</td>\n",
       "      <td>73.2</td>\n",
       "      <td>74.3</td>\n",
       "      <td>73.6</td>\n",
       "      <td>72.6</td>\n",
       "      <td>71.5</td>\n",
       "      <td>70.5</td>\n",
       "      <td>69.2</td>\n",
       "      <td>68</td>\n",
       "      <td>66.5</td>\n",
       "    </tr>\n",
       "  </tbody>\n",
       "</table>\n",
       "<p>5 rows × 144 columns</p>\n",
       "</div>"
      ],
      "text/plain": [
       "                                      1M                 1M.1  \\\n",
       "TERM (TENOR)                                                    \n",
       "MATRUITY (EXPIRY)                     1Y                   2Y   \n",
       "Ticker               USSNAA1 ICPL Curncy  USSNAA2 ICPL Curncy   \n",
       "2025-01-10 00:00:00                 72.2                 96.8   \n",
       "2025-01-09 00:00:00                 79.9                101.1   \n",
       "2025-01-08 00:00:00                 80.9                101.7   \n",
       "\n",
       "                                    1M.2                 1M.3  \\\n",
       "TERM (TENOR)                                                    \n",
       "MATRUITY (EXPIRY)                     3Y                   4Y   \n",
       "Ticker               USSNAA3 ICPL Curncy  USSNAA4 ICPL Curncy   \n",
       "2025-01-10 00:00:00                 97.7                 99.9   \n",
       "2025-01-09 00:00:00                102.2                103.3   \n",
       "2025-01-08 00:00:00                102.9                  104   \n",
       "\n",
       "                                    1M.4                 1M.5  \\\n",
       "TERM (TENOR)                                                    \n",
       "MATRUITY (EXPIRY)                     5Y                   6Y   \n",
       "Ticker               USSNAA5 ICPL Curncy  USSNAA6 ICPL Curncy   \n",
       "2025-01-10 00:00:00                101.6                100.5   \n",
       "2025-01-09 00:00:00                104.5                103.2   \n",
       "2025-01-08 00:00:00                105.2                103.9   \n",
       "\n",
       "                                    1M.6                 1M.7  \\\n",
       "TERM (TENOR)                                                    \n",
       "MATRUITY (EXPIRY)                     7Y                   8Y   \n",
       "Ticker               USSNAA7 ICPL Curncy  USSNAA8 ICPL Curncy   \n",
       "2025-01-10 00:00:00                 99.5                 99.1   \n",
       "2025-01-09 00:00:00                101.8                101.3   \n",
       "2025-01-08 00:00:00                102.5                  102   \n",
       "\n",
       "                                    1M.8                   3M  ...  \\\n",
       "TERM (TENOR)                                                   ...   \n",
       "MATRUITY (EXPIRY)                     9Y                   1Y  ...   \n",
       "Ticker               USSNAA9 ICPL Curncy  USSNAC1 ICPL Curncy  ...   \n",
       "2025-01-10 00:00:00                 98.6                 88.9  ...   \n",
       "2025-01-09 00:00:00                100.8                 88.5  ...   \n",
       "2025-01-08 00:00:00                101.5                 87.1  ...   \n",
       "\n",
       "                                    25Y.8                   30Y  \\\n",
       "TERM (TENOR)                                                      \n",
       "MATRUITY (EXPIRY)                      9Y                    1Y   \n",
       "Ticker               USSNA259 ICPL Curncy  USSNA301 ICPL Curncy   \n",
       "2025-01-10 00:00:00                  70.3                  73.9   \n",
       "2025-01-09 00:00:00                  69.7                  73.1   \n",
       "2025-01-08 00:00:00                  69.8                  73.2   \n",
       "\n",
       "                                    30Y.1                 30Y.2  \\\n",
       "TERM (TENOR)                                                      \n",
       "MATRUITY (EXPIRY)                      2Y                    3Y   \n",
       "Ticker               USSNA302 ICPL Curncy  USSNA303 ICPL Curncy   \n",
       "2025-01-10 00:00:00                    75                  74.2   \n",
       "2025-01-09 00:00:00                  74.2                  73.5   \n",
       "2025-01-08 00:00:00                  74.3                  73.6   \n",
       "\n",
       "                                    30Y.3                 30Y.4  \\\n",
       "TERM (TENOR)                                                      \n",
       "MATRUITY (EXPIRY)                      4Y                    5Y   \n",
       "Ticker               USSNA304 ICPL Curncy  USSNA305 ICPL Curncy   \n",
       "2025-01-10 00:00:00                  73.2                  72.1   \n",
       "2025-01-09 00:00:00                  72.4                  71.4   \n",
       "2025-01-08 00:00:00                  72.6                  71.5   \n",
       "\n",
       "                                    30Y.5                 30Y.6  \\\n",
       "TERM (TENOR)                                                      \n",
       "MATRUITY (EXPIRY)                      6Y                    7Y   \n",
       "Ticker               USSNA306 ICPL Curncy  USSNA307 ICPL Curncy   \n",
       "2025-01-10 00:00:00                  71.1                  69.8   \n",
       "2025-01-09 00:00:00                  70.4                  69.1   \n",
       "2025-01-08 00:00:00                  70.5                  69.2   \n",
       "\n",
       "                                    30Y.7                 30Y.8  \n",
       "TERM (TENOR)                                                     \n",
       "MATRUITY (EXPIRY)                      8Y                    9Y  \n",
       "Ticker               USSNA308 ICPL Curncy  USSNA309 ICPL Curncy  \n",
       "2025-01-10 00:00:00                  68.6                  67.1  \n",
       "2025-01-09 00:00:00                  67.9                  66.4  \n",
       "2025-01-08 00:00:00                    68                  66.5  \n",
       "\n",
       "[5 rows x 144 columns]"
      ]
     },
     "execution_count": 2,
     "metadata": {},
     "output_type": "execute_result"
    }
   ],
   "source": [
    "#original file showing volatility\n",
    "datapath_df = Inputs.read_excel_default(datapath)\n",
    "datapath_df.head()"
   ]
  },
  {
   "cell_type": "code",
   "execution_count": 3,
   "metadata": {},
   "outputs": [
    {
     "data": {
      "text/html": [
       "<div>\n",
       "<style scoped>\n",
       "    .dataframe tbody tr th:only-of-type {\n",
       "        vertical-align: middle;\n",
       "    }\n",
       "\n",
       "    .dataframe tbody tr th {\n",
       "        vertical-align: top;\n",
       "    }\n",
       "\n",
       "    .dataframe thead th {\n",
       "        text-align: right;\n",
       "    }\n",
       "</style>\n",
       "<table border=\"1\" class=\"dataframe\">\n",
       "  <thead>\n",
       "    <tr style=\"text-align: right;\">\n",
       "      <th>1</th>\n",
       "      <th>USSNAA1 ICPL Curncy</th>\n",
       "      <th>USSNAA2 ICPL Curncy</th>\n",
       "      <th>USSNAA3 ICPL Curncy</th>\n",
       "      <th>USSNAA4 ICPL Curncy</th>\n",
       "      <th>USSNAA5 ICPL Curncy</th>\n",
       "      <th>USSNAA6 ICPL Curncy</th>\n",
       "      <th>USSNAA7 ICPL Curncy</th>\n",
       "      <th>USSNAA8 ICPL Curncy</th>\n",
       "      <th>USSNAA9 ICPL Curncy</th>\n",
       "      <th>USSNAC1 ICPL Curncy</th>\n",
       "      <th>...</th>\n",
       "      <th>USSNA259 ICPL Curncy</th>\n",
       "      <th>USSNA301 ICPL Curncy</th>\n",
       "      <th>USSNA302 ICPL Curncy</th>\n",
       "      <th>USSNA303 ICPL Curncy</th>\n",
       "      <th>USSNA304 ICPL Curncy</th>\n",
       "      <th>USSNA305 ICPL Curncy</th>\n",
       "      <th>USSNA306 ICPL Curncy</th>\n",
       "      <th>USSNA307 ICPL Curncy</th>\n",
       "      <th>USSNA308 ICPL Curncy</th>\n",
       "      <th>USSNA309 ICPL Curncy</th>\n",
       "    </tr>\n",
       "    <tr>\n",
       "      <th>Ticker</th>\n",
       "      <th></th>\n",
       "      <th></th>\n",
       "      <th></th>\n",
       "      <th></th>\n",
       "      <th></th>\n",
       "      <th></th>\n",
       "      <th></th>\n",
       "      <th></th>\n",
       "      <th></th>\n",
       "      <th></th>\n",
       "      <th></th>\n",
       "      <th></th>\n",
       "      <th></th>\n",
       "      <th></th>\n",
       "      <th></th>\n",
       "      <th></th>\n",
       "      <th></th>\n",
       "      <th></th>\n",
       "      <th></th>\n",
       "      <th></th>\n",
       "      <th></th>\n",
       "    </tr>\n",
       "  </thead>\n",
       "  <tbody>\n",
       "    <tr>\n",
       "      <th>Tenor</th>\n",
       "      <td>0.083333</td>\n",
       "      <td>0.083333</td>\n",
       "      <td>0.083333</td>\n",
       "      <td>0.083333</td>\n",
       "      <td>0.083333</td>\n",
       "      <td>0.083333</td>\n",
       "      <td>0.083333</td>\n",
       "      <td>0.083333</td>\n",
       "      <td>0.083333</td>\n",
       "      <td>0.25</td>\n",
       "      <td>...</td>\n",
       "      <td>25.0</td>\n",
       "      <td>30.0</td>\n",
       "      <td>30.0</td>\n",
       "      <td>30.0</td>\n",
       "      <td>30.0</td>\n",
       "      <td>30.0</td>\n",
       "      <td>30.0</td>\n",
       "      <td>30.0</td>\n",
       "      <td>30.0</td>\n",
       "      <td>30.0</td>\n",
       "    </tr>\n",
       "    <tr>\n",
       "      <th>Mat</th>\n",
       "      <td>1.000000</td>\n",
       "      <td>2.000000</td>\n",
       "      <td>3.000000</td>\n",
       "      <td>4.000000</td>\n",
       "      <td>5.000000</td>\n",
       "      <td>6.000000</td>\n",
       "      <td>7.000000</td>\n",
       "      <td>8.000000</td>\n",
       "      <td>9.000000</td>\n",
       "      <td>1.00</td>\n",
       "      <td>...</td>\n",
       "      <td>9.0</td>\n",
       "      <td>1.0</td>\n",
       "      <td>2.0</td>\n",
       "      <td>3.0</td>\n",
       "      <td>4.0</td>\n",
       "      <td>5.0</td>\n",
       "      <td>6.0</td>\n",
       "      <td>7.0</td>\n",
       "      <td>8.0</td>\n",
       "      <td>9.0</td>\n",
       "    </tr>\n",
       "  </tbody>\n",
       "</table>\n",
       "<p>2 rows × 144 columns</p>\n",
       "</div>"
      ],
      "text/plain": [
       "1       USSNAA1 ICPL Curncy  USSNAA2 ICPL Curncy  USSNAA3 ICPL Curncy  \\\n",
       "Ticker                                                                  \n",
       "Tenor              0.083333             0.083333             0.083333   \n",
       "Mat                1.000000             2.000000             3.000000   \n",
       "\n",
       "1       USSNAA4 ICPL Curncy  USSNAA5 ICPL Curncy  USSNAA6 ICPL Curncy  \\\n",
       "Ticker                                                                  \n",
       "Tenor              0.083333             0.083333             0.083333   \n",
       "Mat                4.000000             5.000000             6.000000   \n",
       "\n",
       "1       USSNAA7 ICPL Curncy  USSNAA8 ICPL Curncy  USSNAA9 ICPL Curncy  \\\n",
       "Ticker                                                                  \n",
       "Tenor              0.083333             0.083333             0.083333   \n",
       "Mat                7.000000             8.000000             9.000000   \n",
       "\n",
       "1       USSNAC1 ICPL Curncy  ...  USSNA259 ICPL Curncy  USSNA301 ICPL Curncy  \\\n",
       "Ticker                       ...                                               \n",
       "Tenor                  0.25  ...                  25.0                  30.0   \n",
       "Mat                    1.00  ...                   9.0                   1.0   \n",
       "\n",
       "1       USSNA302 ICPL Curncy  USSNA303 ICPL Curncy  USSNA304 ICPL Curncy  \\\n",
       "Ticker                                                                     \n",
       "Tenor                   30.0                  30.0                  30.0   \n",
       "Mat                      2.0                   3.0                   4.0   \n",
       "\n",
       "1       USSNA305 ICPL Curncy  USSNA306 ICPL Curncy  USSNA307 ICPL Curncy  \\\n",
       "Ticker                                                                     \n",
       "Tenor                   30.0                  30.0                  30.0   \n",
       "Mat                      5.0                   6.0                   7.0   \n",
       "\n",
       "1       USSNA308 ICPL Curncy  USSNA309 ICPL Curncy  \n",
       "Ticker                                              \n",
       "Tenor                   30.0                  30.0  \n",
       "Mat                      8.0                   9.0  \n",
       "\n",
       "[2 rows x 144 columns]"
      ]
     },
     "execution_count": 3,
     "metadata": {},
     "output_type": "execute_result"
    }
   ],
   "source": [
    "#tenor and maturity dataframe by security\n",
    "mat_ten_df = Inputs.maturity_tenor(filename=datapath)\n",
    "mat_ten_df"
   ]
  },
  {
   "cell_type": "code",
   "execution_count": 4,
   "metadata": {},
   "outputs": [
    {
     "data": {
      "text/html": [
       "<div>\n",
       "<style scoped>\n",
       "    .dataframe tbody tr th:only-of-type {\n",
       "        vertical-align: middle;\n",
       "    }\n",
       "\n",
       "    .dataframe tbody tr th {\n",
       "        vertical-align: top;\n",
       "    }\n",
       "\n",
       "    .dataframe thead th {\n",
       "        text-align: right;\n",
       "    }\n",
       "</style>\n",
       "<table border=\"1\" class=\"dataframe\">\n",
       "  <thead>\n",
       "    <tr style=\"text-align: right;\">\n",
       "      <th></th>\n",
       "      <th>Values</th>\n",
       "      <th>Tenor</th>\n",
       "      <th>Maturity</th>\n",
       "    </tr>\n",
       "  </thead>\n",
       "  <tbody>\n",
       "    <tr>\n",
       "      <th>USSNAA1 ICPL Curncy</th>\n",
       "      <td>72.2</td>\n",
       "      <td>0.083333</td>\n",
       "      <td>1.0</td>\n",
       "    </tr>\n",
       "    <tr>\n",
       "      <th>USSNAA2 ICPL Curncy</th>\n",
       "      <td>96.8</td>\n",
       "      <td>0.083333</td>\n",
       "      <td>2.0</td>\n",
       "    </tr>\n",
       "    <tr>\n",
       "      <th>USSNAA3 ICPL Curncy</th>\n",
       "      <td>97.7</td>\n",
       "      <td>0.083333</td>\n",
       "      <td>3.0</td>\n",
       "    </tr>\n",
       "    <tr>\n",
       "      <th>USSNAA4 ICPL Curncy</th>\n",
       "      <td>99.9</td>\n",
       "      <td>0.083333</td>\n",
       "      <td>4.0</td>\n",
       "    </tr>\n",
       "    <tr>\n",
       "      <th>USSNAA5 ICPL Curncy</th>\n",
       "      <td>101.6</td>\n",
       "      <td>0.083333</td>\n",
       "      <td>5.0</td>\n",
       "    </tr>\n",
       "  </tbody>\n",
       "</table>\n",
       "</div>"
      ],
      "text/plain": [
       "                     Values     Tenor  Maturity\n",
       "USSNAA1 ICPL Curncy    72.2  0.083333       1.0\n",
       "USSNAA2 ICPL Curncy    96.8  0.083333       2.0\n",
       "USSNAA3 ICPL Curncy    97.7  0.083333       3.0\n",
       "USSNAA4 ICPL Curncy    99.9  0.083333       4.0\n",
       "USSNAA5 ICPL Curncy   101.6  0.083333       5.0"
      ]
     },
     "execution_count": 4,
     "metadata": {},
     "output_type": "execute_result"
    }
   ],
   "source": [
    "#volatility, tenor, and maturity dataframe for a specific date by security\n",
    "vol_df = Inputs.volatility_data(date=sampledate,filename=datapath)\n",
    "vol_df.head()"
   ]
  },
  {
   "cell_type": "code",
   "execution_count": 5,
   "metadata": {},
   "outputs": [
    {
     "data": {
      "text/html": [
       "<div>\n",
       "<style scoped>\n",
       "    .dataframe tbody tr th:only-of-type {\n",
       "        vertical-align: middle;\n",
       "    }\n",
       "\n",
       "    .dataframe tbody tr th {\n",
       "        vertical-align: top;\n",
       "    }\n",
       "\n",
       "    .dataframe thead th {\n",
       "        text-align: right;\n",
       "    }\n",
       "</style>\n",
       "<table border=\"1\" class=\"dataframe\">\n",
       "  <thead>\n",
       "    <tr style=\"text-align: right;\">\n",
       "      <th>Maturity</th>\n",
       "      <th>1.0</th>\n",
       "      <th>2.0</th>\n",
       "      <th>3.0</th>\n",
       "      <th>4.0</th>\n",
       "      <th>5.0</th>\n",
       "      <th>6.0</th>\n",
       "      <th>7.0</th>\n",
       "      <th>8.0</th>\n",
       "      <th>9.0</th>\n",
       "    </tr>\n",
       "    <tr>\n",
       "      <th>Tenor</th>\n",
       "      <th></th>\n",
       "      <th></th>\n",
       "      <th></th>\n",
       "      <th></th>\n",
       "      <th></th>\n",
       "      <th></th>\n",
       "      <th></th>\n",
       "      <th></th>\n",
       "      <th></th>\n",
       "    </tr>\n",
       "  </thead>\n",
       "  <tbody>\n",
       "    <tr>\n",
       "      <th>0.083333</th>\n",
       "      <td>72.2</td>\n",
       "      <td>96.8</td>\n",
       "      <td>97.7</td>\n",
       "      <td>99.9</td>\n",
       "      <td>101.6</td>\n",
       "      <td>100.5</td>\n",
       "      <td>99.5</td>\n",
       "      <td>99.1</td>\n",
       "      <td>98.6</td>\n",
       "    </tr>\n",
       "    <tr>\n",
       "      <th>0.250000</th>\n",
       "      <td>88.9</td>\n",
       "      <td>107.0</td>\n",
       "      <td>107.8</td>\n",
       "      <td>107.8</td>\n",
       "      <td>107.8</td>\n",
       "      <td>105.8</td>\n",
       "      <td>104.9</td>\n",
       "      <td>103.7</td>\n",
       "      <td>102.8</td>\n",
       "    </tr>\n",
       "    <tr>\n",
       "      <th>0.500000</th>\n",
       "      <td>102.2</td>\n",
       "      <td>110.8</td>\n",
       "      <td>109.6</td>\n",
       "      <td>108.9</td>\n",
       "      <td>108.2</td>\n",
       "      <td>106.5</td>\n",
       "      <td>105.1</td>\n",
       "      <td>103.9</td>\n",
       "      <td>103.0</td>\n",
       "    </tr>\n",
       "    <tr>\n",
       "      <th>0.750000</th>\n",
       "      <td>112.0</td>\n",
       "      <td>114.2</td>\n",
       "      <td>111.7</td>\n",
       "      <td>110.3</td>\n",
       "      <td>108.8</td>\n",
       "      <td>107.1</td>\n",
       "      <td>105.7</td>\n",
       "      <td>104.5</td>\n",
       "      <td>103.7</td>\n",
       "    </tr>\n",
       "    <tr>\n",
       "      <th>1.000000</th>\n",
       "      <td>117.7</td>\n",
       "      <td>116.0</td>\n",
       "      <td>112.4</td>\n",
       "      <td>110.2</td>\n",
       "      <td>108.4</td>\n",
       "      <td>106.7</td>\n",
       "      <td>105.4</td>\n",
       "      <td>104.3</td>\n",
       "      <td>103.5</td>\n",
       "    </tr>\n",
       "  </tbody>\n",
       "</table>\n",
       "</div>"
      ],
      "text/plain": [
       "Maturity    1.0    2.0    3.0    4.0    5.0    6.0    7.0    8.0    9.0\n",
       "Tenor                                                                  \n",
       "0.083333   72.2   96.8   97.7   99.9  101.6  100.5   99.5   99.1   98.6\n",
       "0.250000   88.9  107.0  107.8  107.8  107.8  105.8  104.9  103.7  102.8\n",
       "0.500000  102.2  110.8  109.6  108.9  108.2  106.5  105.1  103.9  103.0\n",
       "0.750000  112.0  114.2  111.7  110.3  108.8  107.1  105.7  104.5  103.7\n",
       "1.000000  117.7  116.0  112.4  110.2  108.4  106.7  105.4  104.3  103.5"
      ]
     },
     "execution_count": 5,
     "metadata": {},
     "output_type": "execute_result"
    }
   ],
   "source": [
    "#repivoting the volatility data\n",
    "tab_vol_df = Inputs.tabular_volatility_form(date=sampledate,filename=datapath)\n",
    "tab_vol_df.head()"
   ]
  },
  {
   "cell_type": "code",
   "execution_count": 6,
   "metadata": {},
   "outputs": [
    {
     "data": {
      "text/html": [
       "<div>\n",
       "<style scoped>\n",
       "    .dataframe tbody tr th:only-of-type {\n",
       "        vertical-align: middle;\n",
       "    }\n",
       "\n",
       "    .dataframe tbody tr th {\n",
       "        vertical-align: top;\n",
       "    }\n",
       "\n",
       "    .dataframe thead th {\n",
       "        text-align: right;\n",
       "    }\n",
       "</style>\n",
       "<table border=\"1\" class=\"dataframe\">\n",
       "  <thead>\n",
       "    <tr style=\"text-align: right;\">\n",
       "      <th></th>\n",
       "      <th>Values</th>\n",
       "      <th>Tenor</th>\n",
       "      <th>Maturity</th>\n",
       "    </tr>\n",
       "  </thead>\n",
       "  <tbody>\n",
       "    <tr>\n",
       "      <th>S0042FS 1Y1M BLC Curncy</th>\n",
       "      <td>0.1513</td>\n",
       "      <td>0.083333</td>\n",
       "      <td>1.0</td>\n",
       "    </tr>\n",
       "    <tr>\n",
       "      <th>S0042FS 2Y1M BLC Curncy</th>\n",
       "      <td>0.1457</td>\n",
       "      <td>0.083333</td>\n",
       "      <td>2.0</td>\n",
       "    </tr>\n",
       "    <tr>\n",
       "      <th>S0042FS 3Y1M BLC Curncy</th>\n",
       "      <td>0.1087</td>\n",
       "      <td>0.083333</td>\n",
       "      <td>3.0</td>\n",
       "    </tr>\n",
       "    <tr>\n",
       "      <th>S0042FS 4Y1M BLC Curncy</th>\n",
       "      <td>0.0682</td>\n",
       "      <td>0.083333</td>\n",
       "      <td>4.0</td>\n",
       "    </tr>\n",
       "    <tr>\n",
       "      <th>S0042FS 5Y1M BLC Curncy</th>\n",
       "      <td>0.0475</td>\n",
       "      <td>0.083333</td>\n",
       "      <td>5.0</td>\n",
       "    </tr>\n",
       "  </tbody>\n",
       "</table>\n",
       "</div>"
      ],
      "text/plain": [
       "                         Values     Tenor  Maturity\n",
       "S0042FS 1Y1M BLC Curncy  0.1513  0.083333       1.0\n",
       "S0042FS 2Y1M BLC Curncy  0.1457  0.083333       2.0\n",
       "S0042FS 3Y1M BLC Curncy  0.1087  0.083333       3.0\n",
       "S0042FS 4Y1M BLC Curncy  0.0682  0.083333       4.0\n",
       "S0042FS 5Y1M BLC Curncy  0.0475  0.083333       5.0"
      ]
     },
     "execution_count": 6,
     "metadata": {},
     "output_type": "execute_result"
    }
   ],
   "source": [
    "#returns, tenor, and maturity dataframe for a specific date by security\n",
    "returns_df = Inputs.returns_data(date=sampledate,filename=surfacepath)\n",
    "returns_df.head()"
   ]
  },
  {
   "cell_type": "code",
   "execution_count": 7,
   "metadata": {},
   "outputs": [
    {
     "data": {
      "text/html": [
       "<div>\n",
       "<style scoped>\n",
       "    .dataframe tbody tr th:only-of-type {\n",
       "        vertical-align: middle;\n",
       "    }\n",
       "\n",
       "    .dataframe tbody tr th {\n",
       "        vertical-align: top;\n",
       "    }\n",
       "\n",
       "    .dataframe thead th {\n",
       "        text-align: right;\n",
       "    }\n",
       "</style>\n",
       "<table border=\"1\" class=\"dataframe\">\n",
       "  <thead>\n",
       "    <tr style=\"text-align: right;\">\n",
       "      <th>Maturity</th>\n",
       "      <th>1.0</th>\n",
       "      <th>2.0</th>\n",
       "      <th>3.0</th>\n",
       "      <th>4.0</th>\n",
       "      <th>5.0</th>\n",
       "      <th>6.0</th>\n",
       "      <th>7.0</th>\n",
       "      <th>8.0</th>\n",
       "      <th>9.0</th>\n",
       "    </tr>\n",
       "    <tr>\n",
       "      <th>Tenor</th>\n",
       "      <th></th>\n",
       "      <th></th>\n",
       "      <th></th>\n",
       "      <th></th>\n",
       "      <th></th>\n",
       "      <th></th>\n",
       "      <th></th>\n",
       "      <th></th>\n",
       "      <th></th>\n",
       "    </tr>\n",
       "  </thead>\n",
       "  <tbody>\n",
       "    <tr>\n",
       "      <th>0.083333</th>\n",
       "      <td>0.1513</td>\n",
       "      <td>0.1457</td>\n",
       "      <td>0.1087</td>\n",
       "      <td>0.0682</td>\n",
       "      <td>0.0475</td>\n",
       "      <td>0.0335</td>\n",
       "      <td>0.0186</td>\n",
       "      <td>0.0010</td>\n",
       "      <td>-0.0103</td>\n",
       "    </tr>\n",
       "    <tr>\n",
       "      <th>0.250000</th>\n",
       "      <td>0.1522</td>\n",
       "      <td>0.1488</td>\n",
       "      <td>0.1049</td>\n",
       "      <td>0.0671</td>\n",
       "      <td>0.0470</td>\n",
       "      <td>0.0329</td>\n",
       "      <td>0.0173</td>\n",
       "      <td>-0.0005</td>\n",
       "      <td>-0.0131</td>\n",
       "    </tr>\n",
       "    <tr>\n",
       "      <th>0.500000</th>\n",
       "      <td>0.1538</td>\n",
       "      <td>0.1509</td>\n",
       "      <td>0.1046</td>\n",
       "      <td>0.0674</td>\n",
       "      <td>0.0472</td>\n",
       "      <td>0.0331</td>\n",
       "      <td>0.0173</td>\n",
       "      <td>-0.0011</td>\n",
       "      <td>-0.0140</td>\n",
       "    </tr>\n",
       "    <tr>\n",
       "      <th>0.750000</th>\n",
       "      <td>0.1602</td>\n",
       "      <td>0.1526</td>\n",
       "      <td>0.1057</td>\n",
       "      <td>0.0680</td>\n",
       "      <td>0.0477</td>\n",
       "      <td>0.0334</td>\n",
       "      <td>0.0174</td>\n",
       "      <td>-0.0013</td>\n",
       "      <td>-0.0144</td>\n",
       "    </tr>\n",
       "    <tr>\n",
       "      <th>1.000000</th>\n",
       "      <td>0.1643</td>\n",
       "      <td>0.1543</td>\n",
       "      <td>0.1059</td>\n",
       "      <td>0.0686</td>\n",
       "      <td>0.0482</td>\n",
       "      <td>0.0340</td>\n",
       "      <td>0.0176</td>\n",
       "      <td>-0.0006</td>\n",
       "      <td>-0.0155</td>\n",
       "    </tr>\n",
       "  </tbody>\n",
       "</table>\n",
       "</div>"
      ],
      "text/plain": [
       "Maturity     1.0     2.0     3.0     4.0     5.0     6.0     7.0     8.0  \\\n",
       "Tenor                                                                      \n",
       "0.083333  0.1513  0.1457  0.1087  0.0682  0.0475  0.0335  0.0186  0.0010   \n",
       "0.250000  0.1522  0.1488  0.1049  0.0671  0.0470  0.0329  0.0173 -0.0005   \n",
       "0.500000  0.1538  0.1509  0.1046  0.0674  0.0472  0.0331  0.0173 -0.0011   \n",
       "0.750000  0.1602  0.1526  0.1057  0.0680  0.0477  0.0334  0.0174 -0.0013   \n",
       "1.000000  0.1643  0.1543  0.1059  0.0686  0.0482  0.0340  0.0176 -0.0006   \n",
       "\n",
       "Maturity     9.0  \n",
       "Tenor             \n",
       "0.083333 -0.0103  \n",
       "0.250000 -0.0131  \n",
       "0.500000 -0.0140  \n",
       "0.750000 -0.0144  \n",
       "1.000000 -0.0155  "
      ]
     },
     "execution_count": 7,
     "metadata": {},
     "output_type": "execute_result"
    }
   ],
   "source": [
    "#repivoting the returns data\n",
    "tab_returns_df = Inputs.tabular_returns_form(date=sampledate,filename=surfacepath)\n",
    "tab_returns_df.head()"
   ]
  },
  {
   "cell_type": "code",
   "execution_count": 8,
   "metadata": {},
   "outputs": [
    {
     "data": {
      "text/html": [
       "<div>\n",
       "<style scoped>\n",
       "    .dataframe tbody tr th:only-of-type {\n",
       "        vertical-align: middle;\n",
       "    }\n",
       "\n",
       "    .dataframe tbody tr th {\n",
       "        vertical-align: top;\n",
       "    }\n",
       "\n",
       "    .dataframe thead th {\n",
       "        text-align: right;\n",
       "    }\n",
       "</style>\n",
       "<table border=\"1\" class=\"dataframe\">\n",
       "  <thead>\n",
       "    <tr style=\"text-align: right;\">\n",
       "      <th></th>\n",
       "      <th>Values</th>\n",
       "      <th>Tenor</th>\n",
       "      <th>Maturity</th>\n",
       "    </tr>\n",
       "  </thead>\n",
       "  <tbody>\n",
       "    <tr>\n",
       "      <th>S0042FS 1Y1M BLC Curncy</th>\n",
       "      <td>0.916704</td>\n",
       "      <td>0.083333</td>\n",
       "      <td>1.0</td>\n",
       "    </tr>\n",
       "    <tr>\n",
       "      <th>S0042FS 2Y1M BLC Curncy</th>\n",
       "      <td>0.899016</td>\n",
       "      <td>0.083333</td>\n",
       "      <td>2.0</td>\n",
       "    </tr>\n",
       "    <tr>\n",
       "      <th>S0042FS 3Y1M BLC Curncy</th>\n",
       "      <td>0.888737</td>\n",
       "      <td>0.083333</td>\n",
       "      <td>3.0</td>\n",
       "    </tr>\n",
       "    <tr>\n",
       "      <th>S0042FS 4Y1M BLC Curncy</th>\n",
       "      <td>0.911696</td>\n",
       "      <td>0.083333</td>\n",
       "      <td>4.0</td>\n",
       "    </tr>\n",
       "    <tr>\n",
       "      <th>S0042FS 5Y1M BLC Curncy</th>\n",
       "      <td>0.763827</td>\n",
       "      <td>0.083333</td>\n",
       "      <td>5.0</td>\n",
       "    </tr>\n",
       "  </tbody>\n",
       "</table>\n",
       "</div>"
      ],
      "text/plain": [
       "                           Values     Tenor  Maturity\n",
       "S0042FS 1Y1M BLC Curncy  0.916704  0.083333       1.0\n",
       "S0042FS 2Y1M BLC Curncy  0.899016  0.083333       2.0\n",
       "S0042FS 3Y1M BLC Curncy  0.888737  0.083333       3.0\n",
       "S0042FS 4Y1M BLC Curncy  0.911696  0.083333       4.0\n",
       "S0042FS 5Y1M BLC Curncy  0.763827  0.083333       5.0"
      ]
     },
     "execution_count": 8,
     "metadata": {},
     "output_type": "execute_result"
    }
   ],
   "source": [
    "#realized volatility, tenor, and maturity dataframe for a specific date by security\n",
    "realized_vol_df = Inputs.realized_volatility_data(date=sampledate,nperiods=20,ann = 252,filename=surfacepath)\n",
    "realized_vol_df.head()"
   ]
  },
  {
   "cell_type": "markdown",
   "metadata": {},
   "source": [
    "**Next, we will take a look at some of the VolGAN functions we are reworking.**"
   ]
  },
  {
   "cell_type": "code",
   "execution_count": 9,
   "metadata": {},
   "outputs": [],
   "source": [
    "import VolGANSwaps as VGS"
   ]
  },
  {
   "cell_type": "markdown",
   "metadata": {},
   "source": [
    "**Data Loading**\n",
    "- The data loader takes in the filepath to the volatility surface and the forward swap rates\n",
    "- Constructs returns on underlying\n",
    "- Processes the volatility data\n",
    "    - The surface for every underlying asset is represented as a vector\n",
    "    - This is similarly the case for the returns\n",
    "- Sets up the tenor and tau matrices"
   ]
  },
  {
   "cell_type": "code",
   "execution_count": 10,
   "metadata": {},
   "outputs": [],
   "source": [
    "DATA_PATH = \"data/swaption_atm_vol_no30y.xlsx\"\n",
    "SURFACE_PATH = \"data/forward_sofr_swap_no30y.xlsx\"\n",
    "\n",
    "surfaces_transform, returns, tenor, tau, tenors, taus, dates_dt = VGS.SwapsData(DATA_PATH, SURFACE_PATH)"
   ]
  },
  {
   "cell_type": "markdown",
   "metadata": {},
   "source": [
    "**Data Preprocessing**\n",
    "- Within `DataPreprocessing` we call `SwapsData` like the original VolGAN implementation\n",
    "- Here we construct the condition vector, construct the true labels and pass through some other data that might be relevant\n",
    "    - Each underlying has a condition vector and the true labels (annualized return and log implied vol increment)\n",
    "    - Because of this they will actually end up being tensor inputs to the models"
   ]
  },
  {
   "cell_type": "code",
   "execution_count": 11,
   "metadata": {},
   "outputs": [],
   "source": [
    "# Data preprocessing example\n",
    "\n",
    "true, condition, m_in,sigma_in, m_out, sigma_out, dates_t,  tenor, tau, tenors, taus = VGS.DataPreprocesssing(DATA_PATH, SURFACE_PATH, vol_model='normal')"
   ]
  },
  {
   "cell_type": "code",
   "execution_count": 12,
   "metadata": {},
   "outputs": [
    {
     "data": {
      "text/plain": [
       "(484, 135, 2)"
      ]
     },
     "execution_count": 12,
     "metadata": {},
     "output_type": "execute_result"
    }
   ],
   "source": [
    "true.shape"
   ]
  },
  {
   "cell_type": "code",
   "execution_count": 13,
   "metadata": {},
   "outputs": [
    {
     "data": {
      "text/plain": [
       "(484, 135, 4)"
      ]
     },
     "execution_count": 13,
     "metadata": {},
     "output_type": "execute_result"
    }
   ],
   "source": [
    "condition.shape"
   ]
  },
  {
   "cell_type": "markdown",
   "metadata": {},
   "source": [
    "**Data Train Test Split**\n",
    "- Separates dataset into train and test datasets after processing and loading\n",
    "- Parameterized by datasize percentage / proportion\n",
    "- Parameterized by volatility model assumption ('normal': Bachelier or 'log': Black)"
   ]
  },
  {
   "cell_type": "code",
   "execution_count": 14,
   "metadata": {},
   "outputs": [],
   "source": [
    "true_train, true_test, condition_train,  condition_test,  m_in,sigma_in, m_out, sigma_out, dates_t,  tenor, tau, tenors, taus = VGS.DataTrainTest(DATA_PATH, SURFACE_PATH, 0.8, vol_model='normal')"
   ]
  },
  {
   "cell_type": "code",
   "execution_count": 15,
   "metadata": {},
   "outputs": [
    {
     "data": {
      "text/plain": [
       "torch.Size([387, 135, 2])"
      ]
     },
     "execution_count": 15,
     "metadata": {},
     "output_type": "execute_result"
    }
   ],
   "source": [
    "true_train.shape"
   ]
  },
  {
   "cell_type": "code",
   "execution_count": 16,
   "metadata": {},
   "outputs": [
    {
     "data": {
      "text/plain": [
       "torch.Size([97, 135, 2])"
      ]
     },
     "execution_count": 16,
     "metadata": {},
     "output_type": "execute_result"
    }
   ],
   "source": [
    "true_test.shape"
   ]
  },
  {
   "cell_type": "code",
   "execution_count": 17,
   "metadata": {},
   "outputs": [
    {
     "data": {
      "text/plain": [
       "torch.Size([387, 135, 4])"
      ]
     },
     "execution_count": 17,
     "metadata": {},
     "output_type": "execute_result"
    }
   ],
   "source": [
    "condition_train.shape"
   ]
  },
  {
   "cell_type": "code",
   "execution_count": 18,
   "metadata": {},
   "outputs": [
    {
     "data": {
      "text/plain": [
       "torch.Size([97, 135, 4])"
      ]
     },
     "execution_count": 18,
     "metadata": {},
     "output_type": "execute_result"
    }
   ],
   "source": [
    "condition_test.shape"
   ]
  },
  {
   "cell_type": "markdown",
   "metadata": {},
   "source": [
    "**Next, we are going to run the model.**\n",
    "- We updated the two training loops in the paper by ensuring the dimensionality of the computations were correct\n",
    "- We also accounted for the fact that we are using the normal model\n",
    "- If desired, we can still utilize "
   ]
  },
  {
   "cell_type": "code",
   "execution_count": 19,
   "metadata": {},
   "outputs": [],
   "source": [
    "tr = 0.85\n",
    "noise_dim = 32\n",
    "hidden_dim = 16\n",
    "device = 'cpu'\n",
    "n_epochs = 10000\n",
    "n_grad = 25\n",
    "val = True\n",
    "vol_model = 'normal'\n",
    "test_epoch = 100"
   ]
  },
  {
   "cell_type": "markdown",
   "metadata": {},
   "source": [
    "We present training for a low number of epochs to ensure that the loops work.\n",
    "- Output of this volgan function provides us set of data used to train the models\n",
    "- Also `gen` and `disc` are the trained models that we can then evaluate once trained for more epochs"
   ]
  },
  {
   "cell_type": "code",
   "execution_count": 20,
   "metadata": {},
   "outputs": [
    {
     "name": "stderr",
     "output_type": "stream",
     "text": [
      "100%|██████████| 25/25 [00:03<00:00,  6.94it/s]\n"
     ]
    },
    {
     "name": "stdout",
     "output_type": "stream",
     "text": [
      "alpha : 2.589696790567429e-06 beta : 0.0007070396998739555\n"
     ]
    },
    {
     "name": "stderr",
     "output_type": "stream",
     "text": [
      "100%|██████████| 100/100 [00:12<00:00,  7.88it/s]\n"
     ]
    }
   ],
   "source": [
    "gen, gen_opt, disc, disc_opt, true_train, true_val, true_test, condition_train, condition_val, condition_test, dates_t,  tenor, tau, tenors, taus  = VGS.VolGAN(DATA_PATH,SURFACE_PATH, tr, noise_dim = noise_dim, hidden_dim = hidden_dim, n_epochs = test_epoch,n_grad = n_grad, lrg = 0.0001, lrd = 0.0001, batch_size = 100, device = 'cpu', vol_model=vol_model)"
   ]
  },
  {
   "cell_type": "markdown",
   "metadata": {},
   "source": [
    "Visualize the results from the Gradient Matching"
   ]
  },
  {
   "cell_type": "code",
   "execution_count": 26,
   "metadata": {},
   "outputs": [],
   "source": [
    "tr = 0.85\n",
    "noise_dim = 32\n",
    "hidden_dim = 16\n",
    "device = 'cpu'\n",
    "n_epochs = 10000\n",
    "n_grad = 250\n",
    "val = True\n",
    "vol_model = 'normal'\n",
    "lrg = 0.0001 \n",
    "lrd = 0.0001 \n",
    "batch_size = 100 \n",
    "device = 'cpu'\n",
    "\n",
    "true_train, true_test, condition_train, condition_test,  m_in,sigma_in, m_out, sigma_out, dates_t,  tenor, tau, tenors, taus = VGS.DataTrainTest(DATA_PATH, SURFACE_PATH, tr, vol_model, device)\n",
    "gen = VGS.Generator(noise_dim=noise_dim,cond_dim=condition_train.shape[2], hidden_dim=hidden_dim,output_dim=true_train.shape[2],mean_in = m_in, std_in = sigma_in, mean_out = m_out, std_out = sigma_out)\n",
    "gen.to(device)\n",
    "\n",
    "# m_disc and sigma_disc are not used in the original VolGAN, you can see in the Discriminator forward function \n",
    "# we'll preserve the forward pass for now but we can maybe incorporate these later if needed    \n",
    "m_disc = torch.cat((m_in,m_out),dim=-1)\n",
    "sigma_disc = torch.cat((sigma_in,sigma_out),dim=-1)\n",
    "\n",
    "disc = VGS.Discriminator(in_dim = condition_train.shape[2] + true_train.shape[2], hidden_dim = hidden_dim, mean = m_disc, std = sigma_disc)\n",
    "disc.to(device)\n",
    "\n",
    "true_val = False\n",
    "condition_val = False\n",
    "\n",
    "gen_opt = torch.optim.RMSprop(gen.parameters(), lr=lrg)\n",
    "disc_opt = torch.optim.RMSprop(disc.parameters(), lr=lrd)\n",
    "\n",
    "criterion = nn.BCELoss()\n",
    "criterion = criterion.to(device)"
   ]
  },
  {
   "cell_type": "code",
   "execution_count": 27,
   "metadata": {},
   "outputs": [
    {
     "name": "stderr",
     "output_type": "stream",
     "text": [
      "100%|██████████| 250/250 [00:36<00:00,  6.93it/s]\n"
     ]
    },
    {
     "data": {
      "image/png": "[encoded data removed]",
      "text/plain": [
       "<Figure size 640x480 with 1 Axes>"
      ]
     },
     "metadata": {},
     "output_type": "display_data"
    },
    {
     "data": {
      "image/png": "[encoded data removed]",
      "text/plain": [
       "<Figure size 640x480 with 1 Axes>"
      ]
     },
     "metadata": {},
     "output_type": "display_data"
    },
    {
     "data": {
      "image/png": "[encoded data removed]",
      "text/plain": [
       "<Figure size 640x480 with 1 Axes>"
      ]
     },
     "metadata": {},
     "output_type": "display_data"
    },
    {
     "name": "stdout",
     "output_type": "stream",
     "text": [
      "alpha : 1.0625574876823693e-07 beta : 2.795001277339509e-05\n"
     ]
    }
   ],
   "source": [
    "gen,gen_opt,disc,disc_opt,criterion, alpha, beta = VGS.GradientMatchingPlot(gen,gen_opt,disc,disc_opt,criterion,condition_train,true_train,tenor,tau,tenors,taus,n_grad,lrg,lrd,batch_size,noise_dim,device, vol_model=vol_model)"
   ]
  },
  {
   "cell_type": "markdown",
   "metadata": {},
   "source": [
    "Full training with 10,000 epochs."
   ]
  },
  {
   "cell_type": "code",
   "execution_count": null,
   "metadata": {},
   "outputs": [],
   "source": [
    "gen, gen_opt, disc, disc_opt, true_train, true_val, true_test, condition_train, condition_val, condition_test, dates_t,  tenor, tau, tenors, taus  = VGS.VolGAN(DATA_PATH,SURFACE_PATH, tr, noise_dim = noise_dim, hidden_dim = hidden_dim, n_epochs = n_epochs,n_grad = n_grad, lrg = 0.0001, lrd = 0.0001, batch_size = 100, device = 'cpu', vol_model=vol_model)"
   ]
  }
 ],
 "metadata": {
  "kernelspec": {
   "display_name": "Python 3",
   "language": "python",
   "name": "python3"
  },
  "language_info": {
   "codemirror_mode": {
    "name": "ipython",
    "version": 3
   },
   "file_extension": ".py",
   "mimetype": "text/x-python",
   "name": "python",
   "nbconvert_exporter": "python",
   "pygments_lexer": "ipython3",
   "version": "3.11.10"
  }
 },
 "nbformat": 4,
 "nbformat_minor": 2
}
